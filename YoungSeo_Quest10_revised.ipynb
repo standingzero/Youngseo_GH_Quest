{
 "cells": [
  {
   "cell_type": "code",
   "execution_count": 2,
   "metadata": {},
   "outputs": [],
   "source": [
    "import numpy as np\n",
    "import pandas as pd\n",
    "import matplotlib.pyplot as plt"
   ]
  },
  {
   "cell_type": "markdown",
   "metadata": {},
   "source": [
    "# 1. Confusion matrix & metrics"
   ]
  },
  {
   "cell_type": "code",
   "execution_count": 3,
   "metadata": {},
   "outputs": [],
   "source": [
    "from sklearn.datasets import make_classification\n",
    "from sklearn.linear_model import LogisticRegression\n",
    "from sklearn.metrics import classification_report"
   ]
  },
  {
   "cell_type": "markdown",
   "metadata": {},
   "source": [
    "## (1) 데이터 준비"
   ]
  },
  {
   "cell_type": "code",
   "execution_count": 4,
   "metadata": {},
   "outputs": [],
   "source": [
    "# classification 위한 임의의 데이터 생성 -> X: 2개 feature, y:binary 인 데이터 샘플 100개\n",
    "X, y = make_classification(n_samples=100, n_features=2, n_informative=2, n_redundant=0)"
   ]
  },
  {
   "cell_type": "code",
   "execution_count": 5,
   "metadata": {},
   "outputs": [
    {
     "name": "stderr",
     "output_type": "stream",
     "text": [
      "/Users/youngseo/anaconda3/lib/python3.7/site-packages/sklearn/linear_model/logistic.py:432: FutureWarning: Default solver will be changed to 'lbfgs' in 0.22. Specify a solver to silence this warning.\n",
      "  FutureWarning)\n"
     ]
    }
   ],
   "source": [
    "model = LogisticRegression().fit(X,y)\n",
    "\n",
    "y_score = model.decision_function(X)  \n",
    "y_pred = model.predict(X)\n",
    "\n",
    "# decision_function(): 판별함수 결과값 계산\n",
    "# predict(): y_score가 양수이면 y=1, 음수이면 y=0으로 분류"
   ]
  },
  {
   "cell_type": "code",
   "execution_count": 6,
   "metadata": {},
   "outputs": [
    {
     "data": {
      "text/plain": [
       "array([1, 0, 0, 0, 1, 0, 1, 1, 1, 1, 1, 0, 0, 0, 0, 0, 0, 1, 0, 1, 0, 0,\n",
       "       0, 1, 1, 1, 1, 0, 1, 0, 0, 1, 1, 1, 0, 0, 0, 1, 0, 1, 0, 0, 0, 0,\n",
       "       1, 0, 0, 0, 0, 0, 1, 1, 0, 1, 1, 1, 1, 1, 1, 1, 0, 1, 0, 0, 0, 1,\n",
       "       0, 1, 1, 0, 1, 1, 1, 0, 1, 1, 1, 1, 1, 1, 1, 1, 0, 1, 0, 0, 0, 0,\n",
       "       0, 1, 0, 1, 0, 0, 0, 0, 0, 0, 1, 1])"
      ]
     },
     "execution_count": 6,
     "metadata": {},
     "output_type": "execute_result"
    }
   ],
   "source": [
    "y"
   ]
  },
  {
   "cell_type": "code",
   "execution_count": 7,
   "metadata": {},
   "outputs": [
    {
     "data": {
      "text/plain": [
       "array([ 6.27782795,  0.11786644,  0.31981708, -3.49403155,  1.65893942,\n",
       "       -2.74124899,  4.4759447 ,  3.11399176,  5.7432352 ,  2.74766599,\n",
       "        1.60157065, -1.43016078, -4.56018515, -5.42202298, -2.07274985,\n",
       "        1.48119884, -4.34066665,  4.41654113, -1.50155822, -1.97419396,\n",
       "       -3.16599766, -1.69971271, -1.54602991,  4.13539196,  5.93286031,\n",
       "        0.85477642,  0.50755373, -1.77456397,  3.81043766, -2.57952369,\n",
       "       -1.36898166,  2.8208002 ,  2.6654464 ,  1.31464556, -2.06229708,\n",
       "       -3.58760036, -1.65060423,  0.98496094, -2.80841279,  2.87813442,\n",
       "       -1.92048037, -1.92356285, -3.55801768, -6.77404761,  1.1433758 ,\n",
       "       -1.94288486, -2.30608719, -1.71424118, -6.56781377, -4.71256754,\n",
       "        3.60557984,  4.21209671, -5.74850626,  2.96824753,  2.72182818,\n",
       "        4.17958966,  1.67556143,  1.77591675,  0.27636197,  4.58349363,\n",
       "       -2.59038005,  3.50096429, -5.94934713, -3.41898773, -1.30943289,\n",
       "        2.00442322, -2.01122517,  4.81379622,  0.36749551,  0.97085318,\n",
       "        1.10826996,  6.68527518,  1.56969486, -4.85884678,  3.88166332,\n",
       "        1.72928326,  1.89476826,  1.08308799,  2.63457713, -0.52060186,\n",
       "        2.85150258,  1.95141852, -8.87985432,  4.18562583,  0.68481793,\n",
       "       -4.19431768, -2.54052713, -5.18509795, -5.63270451,  5.05005529,\n",
       "       -8.03638023,  1.72641448, -2.87276971, -7.19032098, -4.57224579,\n",
       "       -3.27256161, -0.42350978, -3.12487312,  2.10350906,  4.21944548])"
      ]
     },
     "execution_count": 7,
     "metadata": {},
     "output_type": "execute_result"
    }
   ],
   "source": [
    "y_score"
   ]
  },
  {
   "cell_type": "code",
   "execution_count": 8,
   "metadata": {},
   "outputs": [
    {
     "data": {
      "text/plain": [
       "array([1, 1, 1, 0, 1, 0, 1, 1, 1, 1, 1, 0, 0, 0, 0, 1, 0, 1, 0, 0, 0, 0,\n",
       "       0, 1, 1, 1, 1, 0, 1, 0, 0, 1, 1, 1, 0, 0, 0, 1, 0, 1, 0, 0, 0, 0,\n",
       "       1, 0, 0, 0, 0, 0, 1, 1, 0, 1, 1, 1, 1, 1, 1, 1, 0, 1, 0, 0, 0, 1,\n",
       "       0, 1, 1, 1, 1, 1, 1, 0, 1, 1, 1, 1, 1, 0, 1, 1, 0, 1, 1, 0, 0, 0,\n",
       "       0, 1, 0, 1, 0, 0, 0, 0, 0, 0, 1, 1])"
      ]
     },
     "execution_count": 8,
     "metadata": {},
     "output_type": "execute_result"
    }
   ],
   "source": [
    "y_pred"
   ]
  },
  {
   "cell_type": "code",
   "execution_count": 9,
   "metadata": {},
   "outputs": [],
   "source": [
    "# 데이터프레임 형태로 확인해 보자\n",
    "\n",
    "df = pd.DataFrame(np.vstack([y_score, y_pred, y]).T,columns=[\"y_score\", \"y_pred\", \"y\"])\n",
    "df = df.sort_values(\"y_score\", ascending=False).reset_index(drop=True)"
   ]
  },
  {
   "cell_type": "code",
   "execution_count": 10,
   "metadata": {},
   "outputs": [
    {
     "data": {
      "text/html": [
       "<div>\n",
       "<style scoped>\n",
       "    .dataframe tbody tr th:only-of-type {\n",
       "        vertical-align: middle;\n",
       "    }\n",
       "\n",
       "    .dataframe tbody tr th {\n",
       "        vertical-align: top;\n",
       "    }\n",
       "\n",
       "    .dataframe thead th {\n",
       "        text-align: right;\n",
       "    }\n",
       "</style>\n",
       "<table border=\"1\" class=\"dataframe\">\n",
       "  <thead>\n",
       "    <tr style=\"text-align: right;\">\n",
       "      <th></th>\n",
       "      <th>y_score</th>\n",
       "      <th>y_pred</th>\n",
       "      <th>y</th>\n",
       "    </tr>\n",
       "  </thead>\n",
       "  <tbody>\n",
       "    <tr>\n",
       "      <th>0</th>\n",
       "      <td>6.685275</td>\n",
       "      <td>1.0</td>\n",
       "      <td>1.0</td>\n",
       "    </tr>\n",
       "    <tr>\n",
       "      <th>1</th>\n",
       "      <td>6.277828</td>\n",
       "      <td>1.0</td>\n",
       "      <td>1.0</td>\n",
       "    </tr>\n",
       "    <tr>\n",
       "      <th>2</th>\n",
       "      <td>5.932860</td>\n",
       "      <td>1.0</td>\n",
       "      <td>1.0</td>\n",
       "    </tr>\n",
       "    <tr>\n",
       "      <th>3</th>\n",
       "      <td>5.743235</td>\n",
       "      <td>1.0</td>\n",
       "      <td>1.0</td>\n",
       "    </tr>\n",
       "    <tr>\n",
       "      <th>4</th>\n",
       "      <td>5.050055</td>\n",
       "      <td>1.0</td>\n",
       "      <td>1.0</td>\n",
       "    </tr>\n",
       "  </tbody>\n",
       "</table>\n",
       "</div>"
      ],
      "text/plain": [
       "    y_score  y_pred    y\n",
       "0  6.685275     1.0  1.0\n",
       "1  6.277828     1.0  1.0\n",
       "2  5.932860     1.0  1.0\n",
       "3  5.743235     1.0  1.0\n",
       "4  5.050055     1.0  1.0"
      ]
     },
     "metadata": {},
     "output_type": "display_data"
    },
    {
     "data": {
      "text/html": [
       "<div>\n",
       "<style scoped>\n",
       "    .dataframe tbody tr th:only-of-type {\n",
       "        vertical-align: middle;\n",
       "    }\n",
       "\n",
       "    .dataframe tbody tr th {\n",
       "        vertical-align: top;\n",
       "    }\n",
       "\n",
       "    .dataframe thead th {\n",
       "        text-align: right;\n",
       "    }\n",
       "</style>\n",
       "<table border=\"1\" class=\"dataframe\">\n",
       "  <thead>\n",
       "    <tr style=\"text-align: right;\">\n",
       "      <th></th>\n",
       "      <th>y_score</th>\n",
       "      <th>y_pred</th>\n",
       "      <th>y</th>\n",
       "    </tr>\n",
       "  </thead>\n",
       "  <tbody>\n",
       "    <tr>\n",
       "      <th>95</th>\n",
       "      <td>-6.567814</td>\n",
       "      <td>0.0</td>\n",
       "      <td>0.0</td>\n",
       "    </tr>\n",
       "    <tr>\n",
       "      <th>96</th>\n",
       "      <td>-6.774048</td>\n",
       "      <td>0.0</td>\n",
       "      <td>0.0</td>\n",
       "    </tr>\n",
       "    <tr>\n",
       "      <th>97</th>\n",
       "      <td>-7.190321</td>\n",
       "      <td>0.0</td>\n",
       "      <td>0.0</td>\n",
       "    </tr>\n",
       "    <tr>\n",
       "      <th>98</th>\n",
       "      <td>-8.036380</td>\n",
       "      <td>0.0</td>\n",
       "      <td>0.0</td>\n",
       "    </tr>\n",
       "    <tr>\n",
       "      <th>99</th>\n",
       "      <td>-8.879854</td>\n",
       "      <td>0.0</td>\n",
       "      <td>0.0</td>\n",
       "    </tr>\n",
       "  </tbody>\n",
       "</table>\n",
       "</div>"
      ],
      "text/plain": [
       "     y_score  y_pred    y\n",
       "95 -6.567814     0.0  0.0\n",
       "96 -6.774048     0.0  0.0\n",
       "97 -7.190321     0.0  0.0\n",
       "98 -8.036380     0.0  0.0\n",
       "99 -8.879854     0.0  0.0"
      ]
     },
     "metadata": {},
     "output_type": "display_data"
    }
   ],
   "source": [
    "display(df.head(), df.tail())"
   ]
  },
  {
   "cell_type": "markdown",
   "metadata": {},
   "source": [
    "## (2) confusion matrix 생성"
   ]
  },
  {
   "cell_type": "code",
   "execution_count": 11,
   "metadata": {},
   "outputs": [],
   "source": [
    "from sklearn.metrics import confusion_matrix\n",
    "from sklearn.metrics import accuracy_score, precision_score, recall_score, f1_score\n",
    "from sklearn.model_selection import cross_val_predict"
   ]
  },
  {
   "cell_type": "code",
   "execution_count": 12,
   "metadata": {},
   "outputs": [
    {
     "name": "stdout",
     "output_type": "stream",
     "text": [
      "[[46  5]\n",
      " [ 2 47]]\n"
     ]
    }
   ],
   "source": [
    "print(confusion_matrix(y, y_pred)) # TP FN FP TN"
   ]
  },
  {
   "cell_type": "code",
   "execution_count": 13,
   "metadata": {},
   "outputs": [
    {
     "name": "stdout",
     "output_type": "stream",
     "text": [
      "accuracy score:  0.93\n",
      "precision score:  0.9038461538461539\n",
      "recall score:  0.9591836734693877\n",
      "f1 score:  0.9306930693069307\n"
     ]
    }
   ],
   "source": [
    "print('accuracy score: ',accuracy_score(y, y_pred) )\n",
    "print('precision score: ',precision_score(y, y_pred) )\n",
    "print('recall score: ',recall_score(y, y_pred) )\n",
    "print('f1 score: ',f1_score(y, y_pred) )"
   ]
  },
  {
   "cell_type": "code",
   "execution_count": 14,
   "metadata": {},
   "outputs": [
    {
     "name": "stdout",
     "output_type": "stream",
     "text": [
      "              precision    recall  f1-score   support\n",
      "\n",
      "           0       0.96      0.90      0.93        51\n",
      "           1       0.90      0.96      0.93        49\n",
      "\n",
      "    accuracy                           0.93       100\n",
      "   macro avg       0.93      0.93      0.93       100\n",
      "weighted avg       0.93      0.93      0.93       100\n",
      "\n"
     ]
    }
   ],
   "source": [
    "print(classification_report(y, y_pred))"
   ]
  },
  {
   "cell_type": "code",
   "execution_count": 15,
   "metadata": {},
   "outputs": [],
   "source": [
    "# 로지스틱 회귀의 threshold(임계값) 를 0이 아닌 -2로 지정해 보자 \n",
    "lower_threshold = model.decision_function(X) > -2\n",
    "\n",
    "df2 = pd.DataFrame(np.vstack([y_score, lower_threshold, y]).T,\n",
    "                  columns=[\"y_score\", \"y_hat\", \"y\"])\n",
    "df2 = df2.sort_values(\"y_score\", ascending=False).reset_index(drop=True)\n"
   ]
  },
  {
   "cell_type": "code",
   "execution_count": 16,
   "metadata": {},
   "outputs": [
    {
     "data": {
      "text/html": [
       "<div>\n",
       "<style scoped>\n",
       "    .dataframe tbody tr th:only-of-type {\n",
       "        vertical-align: middle;\n",
       "    }\n",
       "\n",
       "    .dataframe tbody tr th {\n",
       "        vertical-align: top;\n",
       "    }\n",
       "\n",
       "    .dataframe thead th {\n",
       "        text-align: right;\n",
       "    }\n",
       "</style>\n",
       "<table border=\"1\" class=\"dataframe\">\n",
       "  <thead>\n",
       "    <tr style=\"text-align: right;\">\n",
       "      <th></th>\n",
       "      <th>y_score</th>\n",
       "      <th>y_hat</th>\n",
       "      <th>y</th>\n",
       "    </tr>\n",
       "  </thead>\n",
       "  <tbody>\n",
       "    <tr>\n",
       "      <th>57</th>\n",
       "      <td>-1.501558</td>\n",
       "      <td>1.0</td>\n",
       "      <td>0.0</td>\n",
       "    </tr>\n",
       "    <tr>\n",
       "      <th>58</th>\n",
       "      <td>-1.546030</td>\n",
       "      <td>1.0</td>\n",
       "      <td>0.0</td>\n",
       "    </tr>\n",
       "    <tr>\n",
       "      <th>59</th>\n",
       "      <td>-1.650604</td>\n",
       "      <td>1.0</td>\n",
       "      <td>0.0</td>\n",
       "    </tr>\n",
       "    <tr>\n",
       "      <th>60</th>\n",
       "      <td>-1.699713</td>\n",
       "      <td>1.0</td>\n",
       "      <td>0.0</td>\n",
       "    </tr>\n",
       "    <tr>\n",
       "      <th>61</th>\n",
       "      <td>-1.714241</td>\n",
       "      <td>1.0</td>\n",
       "      <td>0.0</td>\n",
       "    </tr>\n",
       "    <tr>\n",
       "      <th>62</th>\n",
       "      <td>-1.774564</td>\n",
       "      <td>1.0</td>\n",
       "      <td>0.0</td>\n",
       "    </tr>\n",
       "    <tr>\n",
       "      <th>63</th>\n",
       "      <td>-1.920480</td>\n",
       "      <td>1.0</td>\n",
       "      <td>0.0</td>\n",
       "    </tr>\n",
       "    <tr>\n",
       "      <th>64</th>\n",
       "      <td>-1.923563</td>\n",
       "      <td>1.0</td>\n",
       "      <td>0.0</td>\n",
       "    </tr>\n",
       "    <tr>\n",
       "      <th>65</th>\n",
       "      <td>-1.942885</td>\n",
       "      <td>1.0</td>\n",
       "      <td>0.0</td>\n",
       "    </tr>\n",
       "    <tr>\n",
       "      <th>66</th>\n",
       "      <td>-1.974194</td>\n",
       "      <td>1.0</td>\n",
       "      <td>1.0</td>\n",
       "    </tr>\n",
       "    <tr>\n",
       "      <th>67</th>\n",
       "      <td>-2.011225</td>\n",
       "      <td>0.0</td>\n",
       "      <td>0.0</td>\n",
       "    </tr>\n",
       "    <tr>\n",
       "      <th>68</th>\n",
       "      <td>-2.062297</td>\n",
       "      <td>0.0</td>\n",
       "      <td>0.0</td>\n",
       "    </tr>\n",
       "    <tr>\n",
       "      <th>69</th>\n",
       "      <td>-2.072750</td>\n",
       "      <td>0.0</td>\n",
       "      <td>0.0</td>\n",
       "    </tr>\n",
       "    <tr>\n",
       "      <th>70</th>\n",
       "      <td>-2.306087</td>\n",
       "      <td>0.0</td>\n",
       "      <td>0.0</td>\n",
       "    </tr>\n",
       "  </tbody>\n",
       "</table>\n",
       "</div>"
      ],
      "text/plain": [
       "     y_score  y_hat    y\n",
       "57 -1.501558    1.0  0.0\n",
       "58 -1.546030    1.0  0.0\n",
       "59 -1.650604    1.0  0.0\n",
       "60 -1.699713    1.0  0.0\n",
       "61 -1.714241    1.0  0.0\n",
       "62 -1.774564    1.0  0.0\n",
       "63 -1.920480    1.0  0.0\n",
       "64 -1.923563    1.0  0.0\n",
       "65 -1.942885    1.0  0.0\n",
       "66 -1.974194    1.0  1.0\n",
       "67 -2.011225    0.0  0.0\n",
       "68 -2.062297    0.0  0.0\n",
       "69 -2.072750    0.0  0.0\n",
       "70 -2.306087    0.0  0.0"
      ]
     },
     "metadata": {},
     "output_type": "display_data"
    }
   ],
   "source": [
    "display(df2[(df2['y_score']> -2.5) & (df2['y_score']<-1.5)])"
   ]
  },
  {
   "cell_type": "code",
   "execution_count": 17,
   "metadata": {},
   "outputs": [
    {
     "name": "stdout",
     "output_type": "stream",
     "text": [
      "[[33 18]\n",
      " [ 0 49]]\n"
     ]
    }
   ],
   "source": [
    "print(confusion_matrix(y, lower_threshold))"
   ]
  },
  {
   "cell_type": "code",
   "execution_count": 18,
   "metadata": {},
   "outputs": [
    {
     "name": "stdout",
     "output_type": "stream",
     "text": [
      "              precision    recall  f1-score   support\n",
      "\n",
      "           0       1.00      0.65      0.79        51\n",
      "           1       0.73      1.00      0.84        49\n",
      "\n",
      "    accuracy                           0.82       100\n",
      "   macro avg       0.87      0.82      0.82       100\n",
      "weighted avg       0.87      0.82      0.81       100\n",
      "\n"
     ]
    }
   ],
   "source": [
    "print(classification_report(y, lower_threshold))"
   ]
  },
  {
   "cell_type": "markdown",
   "metadata": {},
   "source": [
    "# 2. ROC, PR 곡선 그리기"
   ]
  },
  {
   "cell_type": "code",
   "execution_count": 19,
   "metadata": {},
   "outputs": [],
   "source": [
    "from sklearn.metrics import auc\n",
    "from sklearn.metrics import roc_curve\n",
    "from sklearn.metrics import roc_auc_score\n",
    "from sklearn.metrics import precision_recall_curve\n",
    "from sklearn.model_selection import train_test_split"
   ]
  },
  {
   "cell_type": "code",
   "execution_count": 20,
   "metadata": {},
   "outputs": [],
   "source": [
    "X, y = make_classification(n_samples=500, n_features=2, n_informative=2, n_redundant=0)\n",
    "X_train, X_test, y_train, y_test = train_test_split(X, y)"
   ]
  },
  {
   "cell_type": "code",
   "execution_count": 21,
   "metadata": {},
   "outputs": [
    {
     "name": "stderr",
     "output_type": "stream",
     "text": [
      "/Users/youngseo/anaconda3/lib/python3.7/site-packages/sklearn/linear_model/logistic.py:432: FutureWarning: Default solver will be changed to 'lbfgs' in 0.22. Specify a solver to silence this warning.\n",
      "  FutureWarning)\n",
      "/Users/youngseo/anaconda3/lib/python3.7/site-packages/sklearn/linear_model/logistic.py:432: FutureWarning: Default solver will be changed to 'lbfgs' in 0.22. Specify a solver to silence this warning.\n",
      "  FutureWarning)\n",
      "/Users/youngseo/anaconda3/lib/python3.7/site-packages/sklearn/linear_model/logistic.py:432: FutureWarning: Default solver will be changed to 'lbfgs' in 0.22. Specify a solver to silence this warning.\n",
      "  FutureWarning)\n"
     ]
    }
   ],
   "source": [
    "model = LogisticRegression().fit(X,y)\n",
    "y_score = model.fit(X_train, y_train).decision_function(X_test)\n",
    "y_pred = model.fit(X_train, y_train).predict(X_test)"
   ]
  },
  {
   "cell_type": "code",
   "execution_count": 22,
   "metadata": {},
   "outputs": [],
   "source": [
    "# calculate AUC\n",
    "roc_auc = roc_auc_score(y_test, y_score)\n",
    "# calculate roc curve\n",
    "fpr, tpr, thresholds = roc_curve(y_test, y_score)"
   ]
  },
  {
   "cell_type": "code",
   "execution_count": 23,
   "metadata": {
    "scrolled": true
   },
   "outputs": [
    {
     "name": "stdout",
     "output_type": "stream",
     "text": [
      "0.9192207792207794\n"
     ]
    }
   ],
   "source": [
    "print(roc_auc)"
   ]
  },
  {
   "cell_type": "code",
   "execution_count": 24,
   "metadata": {},
   "outputs": [
    {
     "data": {
      "image/png": "[encoded data removed]",
      "text/plain": [
       "<Figure size 432x288 with 1 Axes>"
      ]
     },
     "metadata": {
      "needs_background": "light"
     },
     "output_type": "display_data"
    }
   ],
   "source": [
    "plt.figure()\n",
    "plt.plot(fpr, tpr, lw=2, color='darkorange', label='ROC curve (area = %0.2f)' % roc_auc)\n",
    "plt.plot([0, 1], [0, 1], color='navy', lw=2, linestyle='--')\n",
    "plt.xlim([0.0, 1.0])\n",
    "plt.ylim([0.0, 1.05])\n",
    "plt.xlabel('False Positive Rate = Recall')\n",
    "plt.ylabel('True Positive Rate = Sensitivity')\n",
    "plt.title('ROC curve')\n",
    "plt.legend(loc=\"lower right\")\n",
    "plt.show()"
   ]
  },
  {
   "cell_type": "code",
   "execution_count": 25,
   "metadata": {},
   "outputs": [
    {
     "name": "stdout",
     "output_type": "stream",
     "text": [
      "[[44 11]\n",
      " [ 4 66]]\n"
     ]
    }
   ],
   "source": [
    "print(confusion_matrix(y_test, y_pred))"
   ]
  },
  {
   "cell_type": "markdown",
   "metadata": {},
   "source": [
    "# 3. Cross Validation"
   ]
  },
  {
   "cell_type": "code",
   "execution_count": 26,
   "metadata": {},
   "outputs": [],
   "source": [
    "from sklearn.model_selection import KFold\n",
    "from sklearn.model_selection import cross_val_score"
   ]
  },
  {
   "cell_type": "code",
   "execution_count": 27,
   "metadata": {},
   "outputs": [
    {
     "name": "stdout",
     "output_type": "stream",
     "text": [
      "[[ 1.16418024 -2.72659894]\n",
      " [-0.81989472  2.11292617]\n",
      " [ 0.38236848 -1.26403752]\n",
      " [ 0.43001494 -0.96666759]\n",
      " [ 1.37728654 -0.83291489]\n",
      " [ 1.07053843  0.49001625]\n",
      " [-0.82218525  1.61061133]\n",
      " [ 0.31198191  0.08883587]\n",
      " [ 1.22480645  0.5915688 ]\n",
      " [ 0.58696175  1.02909919]\n",
      " [ 0.49736079 -1.74096417]\n",
      " [ 0.91233098  1.85824149]\n",
      " [ 0.19129907 -0.85314437]\n",
      " [ 1.22469362  0.36996758]\n",
      " [ 0.43074358  0.08759905]\n",
      " [ 0.61010906 -2.25637775]\n",
      " [-1.43987671 -1.36912691]\n",
      " [ 1.12928913 -2.02906671]\n",
      " [-0.42294461 -0.74481839]\n",
      " [-2.19979696 -2.46828587]\n",
      " [ 0.72187807 -1.6593785 ]\n",
      " [-0.83297444 -0.9129247 ]\n",
      " [ 0.1654868  -0.79248654]\n",
      " [ 1.900721    0.87304097]\n",
      " [ 0.55169451 -2.16879953]\n",
      " [ 0.76374982  0.68979448]\n",
      " [-2.44824917 -2.44461079]\n",
      " [-0.07707029  0.08526768]\n",
      " [ 0.85211809 -2.47856258]\n",
      " [ 0.0993398  -2.32401865]\n",
      " [ 1.40288479  0.31981568]\n",
      " [ 0.88144906 -0.34436152]\n",
      " [-1.85299986 -1.37233246]\n",
      " [-0.0913555  -1.30743968]\n",
      " [ 0.9493075   2.35811079]\n",
      " [ 1.64118018 -2.91919433]\n",
      " [ 1.38161885  0.96350324]\n",
      " [-2.12577536  2.58196064]\n",
      " [ 0.47275115  1.34047172]\n",
      " [-0.27700469 -0.12127983]\n",
      " [ 1.76721015 -1.22784804]\n",
      " [-1.06414734 -0.84953281]\n",
      " [-1.2489332  -1.77340569]\n",
      " [ 0.82318462  0.01402067]\n",
      " [-0.37828228  0.29982196]\n",
      " [ 0.29119639  1.51784984]\n",
      " [ 0.270857    0.9979932 ]\n",
      " [ 2.02958534 -1.46011145]\n",
      " [-2.27803165  2.86803512]\n",
      " [-1.78655971  1.60510153]\n",
      " [-1.26389923 -0.8591091 ]\n",
      " [-0.55010434 -0.35839797]\n",
      " [-1.25514645 -1.12264522]\n",
      " [-1.79159347 -1.67807958]\n",
      " [-0.65579911 -0.33910528]\n",
      " [ 1.58395237  0.91132288]\n",
      " [ 0.39392281 -0.65130033]\n",
      " [ 0.30088503 -2.35468804]\n",
      " [ 1.32371621  1.22853972]\n",
      " [-0.68124486 -0.80343717]\n",
      " [-1.0802319   0.38655077]\n",
      " [-3.42784695  4.89271989]\n",
      " [ 1.02505064  1.30157097]\n",
      " [ 2.04191215  0.67397997]\n",
      " [-1.43791746  1.79771182]\n",
      " [-1.83155403  1.81639317]\n",
      " [ 2.05867429 -0.06050761]\n",
      " [ 2.62533695  0.09143949]\n",
      " [-1.65612775  1.59565533]\n",
      " [-0.02191499 -0.03202935]\n",
      " [ 0.48185902  0.33306339]\n",
      " [-1.19675581 -0.85625803]\n",
      " [ 1.13290849  1.08360328]\n",
      " [ 0.92848558  1.19795908]\n",
      " [ 0.45636765  1.46985545]\n",
      " [-0.78316832 -0.42050409]\n",
      " [-1.37306594  1.37104866]\n",
      " [-0.47062549  0.23647166]\n",
      " [ 0.09020779 -2.07918983]\n",
      " [-0.41755013  1.75346623]\n",
      " [ 2.52274419  0.8762104 ]\n",
      " [-0.32839388 -0.72254634]\n",
      " [-0.70712264 -0.81010613]\n",
      " [ 0.67285279  0.7661737 ]\n",
      " [ 0.54165106  0.43106243]\n",
      " [ 0.63800724  2.36961728]\n",
      " [-1.08068553 -0.50336697]\n",
      " [-2.08286699  1.91540435]\n",
      " [ 1.27186125 -0.36241677]\n",
      " [ 1.87927735  0.29236683]\n",
      " [ 1.13892066 -1.10915264]\n",
      " [-1.71906568 -1.0513214 ]\n",
      " [-1.26067182 -0.90256792]\n",
      " [-1.02658286 -0.50566643]\n",
      " [-1.11471536  1.01041915]\n",
      " [-1.06795959  0.05658009]\n",
      " [-0.69788107  0.09933685]\n",
      " [ 1.15402309  0.151482  ]\n",
      " [-1.43549717  2.45942965]\n",
      " [-0.30535167  0.23029628]\n",
      " [-1.04704007  1.20933574]\n",
      " [-3.16122271  3.1004993 ]\n",
      " [-1.37959238  1.5793013 ]\n",
      " [ 0.09402946 -1.27578192]\n",
      " [-0.92333739  0.91269829]\n",
      " [ 0.25345965 -2.17858256]\n",
      " [ 1.82003889 -1.20440717]\n",
      " [-0.44562175 -0.10631431]\n",
      " [ 0.6322404   0.61306139]\n",
      " [ 1.32964637  0.03118715]\n",
      " [-0.75570995 -0.7692117 ]\n",
      " [-0.59003812 -0.92064776]\n",
      " [ 1.58820905  0.58918819]\n",
      " [-2.06555278  1.26468141]\n",
      " [ 0.66366608  1.77147896]\n",
      " [-1.95460855 -1.76626082]\n",
      " [ 1.25512632  0.05980651]\n",
      " [-0.77982468  0.0947787 ]\n",
      " [-0.55629459 -2.10022412]\n",
      " [ 1.28044607 -3.28427455]\n",
      " [-1.07693587  1.15872515]\n",
      " [ 0.17608894  0.26204867]\n",
      " [ 0.27255182  0.10700358]\n",
      " [-0.25208043 -0.61305839]\n",
      " [ 0.67502853  1.71048357]\n",
      " [-1.78152923 -2.06836647]\n",
      " [-1.24959703  1.18610737]\n",
      " [-2.10124951  1.92545891]\n",
      " [ 1.28345121  1.16826597]\n",
      " [-1.56599244 -1.59025189]\n",
      " [-2.33684839  2.45912729]\n",
      " [-1.6849193  -1.2025095 ]\n",
      " [-1.69598147  2.29601523]\n",
      " [ 1.86700979  0.85019078]\n",
      " [ 0.74733087  0.4434277 ]\n",
      " [-0.65328169 -0.82323811]\n",
      " [-0.66466875  0.97308901]\n",
      " [-0.78322703 -0.59111148]\n",
      " [-0.73910768 -0.89624604]\n",
      " [ 0.36146953  1.97573141]\n",
      " [ 0.40219996  1.27490784]\n",
      " [ 0.79986994  0.80158768]\n",
      " [ 1.08918016 -2.07387427]\n",
      " [ 0.71201918  0.10752884]\n",
      " [-1.0806061   1.17889169]\n",
      " [ 0.314559   -4.44481211]\n",
      " [-0.50242172 -0.70013016]\n",
      " [ 2.19266049  0.49003732]\n",
      " [ 1.20416106  1.01591043]\n",
      " [-1.37461755  1.60247056]\n",
      " [ 1.80853349 -0.30698506]\n",
      " [ 1.20388239  0.42505376]\n",
      " [-1.43615671  0.87646372]\n",
      " [-1.19285118 -1.73844899]\n",
      " [-2.27838479  3.1504063 ]\n",
      " [-2.21817005  3.38196526]\n",
      " [-0.4249736   1.12042868]\n",
      " [-1.43145336 -0.92798268]\n",
      " [-0.16927778  0.182643  ]\n",
      " [-1.00537365 -1.12968161]\n",
      " [-1.54063838 -1.94803648]\n",
      " [-0.23666062 -0.19291852]\n",
      " [-1.4411849   1.35360837]\n",
      " [ 3.15004097 -0.08617006]\n",
      " [ 0.68701842 -0.8373454 ]\n",
      " [-1.42613841 -1.87494411]\n",
      " [-0.48321502  1.30080863]\n",
      " [-0.96411674  1.97229584]\n",
      " [ 2.24423767 -0.05605713]\n",
      " [ 2.51104017 -0.44667634]\n",
      " [-1.01476069  0.91430369]\n",
      " [ 0.63786269  0.99369429]\n",
      " [-1.05570132 -0.99638817]\n",
      " [ 1.3371988   0.2625994 ]\n",
      " [-0.49469115 -0.27785936]\n",
      " [ 1.34667351 -0.90840686]\n",
      " [-2.65485072  3.47901312]\n",
      " [-0.36997735  0.29749795]\n",
      " [-1.59098813  1.83574504]\n",
      " [ 0.70617734 -0.42278388]\n",
      " [ 0.23787706 -2.35922853]\n",
      " [-1.91942029 -2.05440598]\n",
      " [-0.74284538  0.5380127 ]\n",
      " [ 2.59179889 -0.29679479]\n",
      " [-2.06198039 -1.44507147]\n",
      " [ 0.07522661 -1.19240817]\n",
      " [-1.33870434  1.7546489 ]\n",
      " [-1.64166141  2.74951433]\n",
      " [ 1.23508256 -1.75796365]\n",
      " [-2.03435044 -2.03256446]\n",
      " [-1.28572365 -1.38201969]\n",
      " [ 1.56419389 -1.89323033]\n",
      " [-1.33104324  2.77154434]\n",
      " [-2.17344704 -2.57379342]\n",
      " [ 1.73499497  0.98405611]\n",
      " [-1.11054898 -1.44701678]\n",
      " [-1.48583806 -1.58334984]\n",
      " [-1.58680252  1.94340247]\n",
      " [-2.13758252  2.2945587 ]\n",
      " [-0.83782327 -0.39909917]\n",
      " [-0.45819956 -1.66701639]\n",
      " [ 0.09284421 -0.77421195]\n",
      " [ 0.18484354 -0.60789779]\n",
      " [ 0.71676212 -2.34308309]\n",
      " [-0.04079004 -0.48226156]\n",
      " [-2.03342484  1.91771082]\n",
      " [-0.35325999 -2.01431784]\n",
      " [-0.77073064  1.26632015]\n",
      " [-1.33323386 -1.04067726]\n",
      " [-0.70083027  1.61345377]\n",
      " [-0.7481623   1.03093864]\n",
      " [-0.68468474 -0.68342651]\n",
      " [ 0.8224146  -0.64167902]\n",
      " [-1.6433074  -1.81469872]\n",
      " [-2.0175498  -2.25001127]\n",
      " [-1.02142589 -0.88760439]\n",
      " [-0.39229279 -0.79231475]\n",
      " [-0.59683319  0.54418227]\n",
      " [ 0.31849618 -1.65820609]\n",
      " [ 1.50454896  0.91063112]\n",
      " [-0.17773757 -0.71937431]\n",
      " [ 0.3027341   0.96253586]\n",
      " [-0.30616567 -0.65581039]\n",
      " [-2.29286267 -2.47520859]\n",
      " [-1.76042193 -1.87788443]\n",
      " [-0.71503503 -0.51517829]\n",
      " [-0.32208727 -0.47214632]\n",
      " [-1.41058017 -1.46225694]\n",
      " [-0.56464968 -0.65848882]\n",
      " [-2.14630101  2.37866558]\n",
      " [ 1.37571883  1.22184801]\n",
      " [ 1.85949233 -0.42287739]\n",
      " [ 0.75529703  0.1682535 ]\n",
      " [-0.75732088  0.32383428]\n",
      " [-0.01406848  1.81160131]\n",
      " [-1.82346663  2.33838089]\n",
      " [-1.93206588 -2.44063544]\n",
      " [ 1.59581338  0.29569747]\n",
      " [ 1.75186092 -2.55373852]\n",
      " [-0.34502467  2.40884708]\n",
      " [-1.63392175  0.55062487]\n",
      " [-1.7477539   1.85249197]\n",
      " [ 1.54255299  0.75559748]\n",
      " [ 0.88481609  0.71346283]\n",
      " [ 1.54591417  0.31714521]\n",
      " [-1.35869555 -1.26869085]\n",
      " [ 2.25613288  1.02539916]\n",
      " [ 0.26952682  1.70154933]\n",
      " [-0.57584389  0.32700223]\n",
      " [-0.06102902 -0.52605422]\n",
      " [ 0.32892668 -1.69007276]\n",
      " [ 1.78476262  0.74585918]\n",
      " [-1.07466009  0.93558002]\n",
      " [-1.79637194 -2.06980012]\n",
      " [ 2.7370554   0.05892648]\n",
      " [ 0.94021622 -1.09939807]\n",
      " [ 1.44872743 -1.94844694]\n",
      " [-0.96896458  2.78155156]\n",
      " [ 1.05362854 -0.22971055]\n",
      " [ 0.23075563  1.7350415 ]\n",
      " [-3.04971595  3.62371012]\n",
      " [ 0.64737666 -0.11255621]\n",
      " [-0.6221369  -0.76693497]\n",
      " [ 1.6609765   0.47269319]\n",
      " [-2.01635352  1.10276257]\n",
      " [ 2.47111757  0.15708459]\n",
      " [-1.27064417  0.76974062]\n",
      " [ 1.61088739  0.268228  ]\n",
      " [ 0.99658812  1.5599799 ]\n",
      " [-1.12225258 -1.46832992]\n",
      " [ 0.16787328  0.12344576]\n",
      " [-1.4485932  -1.14862307]\n",
      " [ 2.39736278  0.60175904]\n",
      " [ 1.68076736  0.97065399]\n",
      " [-0.45183208 -0.03727015]\n",
      " [ 1.28277687 -1.3113141 ]\n",
      " [ 0.25845768 -0.16209331]\n",
      " [ 1.50918277  0.94763951]\n",
      " [-1.25501806 -1.21882407]\n",
      " [ 2.03290918 -0.30238804]\n",
      " [ 0.11090485  0.1353011 ]\n",
      " [-1.43239671 -0.94102516]\n",
      " [-1.97859682  2.80368594]\n",
      " [ 0.70017793 -0.90222744]\n",
      " [-1.07977063  1.37843899]\n",
      " [-0.24033668  1.92830463]\n",
      " [ 0.1767338   1.37157269]\n",
      " [ 1.71105568  1.06901985]\n",
      " [-0.33928086  1.86635109]\n",
      " [-1.47334499 -1.64544334]\n",
      " [-0.4657659  -0.22142258]\n",
      " [ 0.77055189  1.42044226]\n",
      " [ 1.24115403  0.79558217]\n",
      " [ 2.86313202  0.10699632]\n",
      " [ 1.5584159  -0.70951436]\n",
      " [-0.52428152 -0.55580992]\n",
      " [-2.39496315  2.87462594]\n",
      " [-1.68704554  1.06858308]\n",
      " [ 1.63754599  0.18598094]\n",
      " [ 0.93087706  1.22632349]\n",
      " [-0.47634677  0.56528439]\n",
      " [-1.29546381 -1.10475868]\n",
      " [ 0.28735018 -0.36192439]\n",
      " [ 0.63239258  0.43334053]\n",
      " [-1.41129836 -1.17410602]\n",
      " [ 0.65298919  1.56060439]\n",
      " [-0.49788693  0.45069164]\n",
      " [-0.85567801  1.22106704]\n",
      " [-0.23477397 -0.58393303]\n",
      " [-1.621341   -1.3280494 ]\n",
      " [-0.22205725  0.8221381 ]\n",
      " [ 1.19516024  0.4246188 ]\n",
      " [ 1.93113172 -0.89131187]\n",
      " [-2.46836737  1.92536052]\n",
      " [-1.91806697  1.97604387]\n",
      " [-2.11489821 -2.5685294 ]\n",
      " [ 2.14973194  0.78228989]\n",
      " [-1.30291397 -1.39729303]\n",
      " [-0.68095127 -0.59360177]\n",
      " [ 1.14355862 -1.03245332]\n",
      " [ 0.5389216  -1.07870469]\n",
      " [-0.39224206 -0.0507002 ]\n",
      " [-0.05106137  1.72022192]\n",
      " [ 0.87180673 -0.68545434]\n",
      " [-1.96279526  1.63249599]\n",
      " [-0.84164713 -1.42294463]\n",
      " [ 1.1579133   1.36352224]\n",
      " [-0.51476807  1.2461694 ]\n",
      " [ 0.86607446  1.51906037]\n",
      " [ 0.18682693  0.10140291]\n",
      " [ 0.60041394  0.60823434]\n",
      " [ 0.07019011 -0.22826245]\n",
      " [-0.67785098  1.24565189]] [0 1 1 0 1 0 0 0 0 1 1 0 0 0 0 0 0 1 1 0 0 1 1 1 0 1 1 0 1 1 0 1 0 0 0 1 1\n",
      " 0 1 0 0 0 0 0 0 0 0 1 1 1 0 0 0 1 1 1 0 0 0 0 0 1 0 0 0 0 1 1 1 0 0 0 1 0\n",
      " 0 1 1 0 1 1 1 0 1 0 0 0 1 1 0 0 1 0 1 0 1 0 0 1 1 1 1 0 1 0 0 1 1 1 0 1 1\n",
      " 1 1 1 1 1 0 0 1 1 1 0 1 0 1 1 0 0 0 1 1 0 1 1 1 0 0 0 1 0 0 1 0 0 1 0 1 1\n",
      " 1 0 0 0 0 0 1 1 1 0 0 1 1 0 1 1 0 0 0]\n",
      "[[ 1.16418024e+00 -2.72659894e+00]\n",
      " [ 1.29042443e+00  2.82262284e-01]\n",
      " [-1.24610795e-01  1.36251299e+00]\n",
      " [-6.16659657e-01  7.25057484e-02]\n",
      " [ 6.72677991e-01 -2.08576370e+00]\n",
      " [-5.45912046e-01  1.85521435e+00]\n",
      " [-2.61137870e-01 -9.69903367e-02]\n",
      " [ 4.30014944e-01 -9.66667585e-01]\n",
      " [-3.55795851e-01 -3.62717676e-01]\n",
      " [ 1.37728654e+00 -8.32914891e-01]\n",
      " [-7.06682130e-01 -1.07055379e+00]\n",
      " [-1.55344886e+00 -1.66560832e+00]\n",
      " [-9.59873008e-01  2.16792962e+00]\n",
      " [ 3.86722348e+00 -4.13957568e-02]\n",
      " [ 1.00923187e+00  2.93314034e-01]\n",
      " [ 1.20128264e+00 -2.35836252e+00]\n",
      " [ 4.97360792e-01 -1.74096417e+00]\n",
      " [ 1.91299073e-01 -8.53144373e-01]\n",
      " [ 4.11089645e-01 -1.73308665e-01]\n",
      " [ 4.30743582e-01  8.75990521e-02]\n",
      " [ 1.12928913e+00 -2.02906671e+00]\n",
      " [-4.22944609e-01 -7.44818389e-01]\n",
      " [ 1.65486801e-01 -7.92486540e-01]\n",
      " [-6.07096408e-01 -6.08476872e-01]\n",
      " [ 1.90072100e+00  8.73040966e-01]\n",
      " [ 5.51694510e-01 -2.16879953e+00]\n",
      " [-2.44824917e+00 -2.44461079e+00]\n",
      " [-7.70702858e-02  8.52676760e-02]\n",
      " [ 8.52118090e-01 -2.47856258e+00]\n",
      " [ 1.67558093e+00  1.10776185e+00]\n",
      " [ 8.09279860e-02 -5.96087858e-01]\n",
      " [ 1.40288479e+00  3.19815676e-01]\n",
      " [ 8.81449061e-01 -3.44361516e-01]\n",
      " [ 8.00416896e-01 -7.18936921e-01]\n",
      " [-1.85299986e+00 -1.37233246e+00]\n",
      " [-5.91854979e-02  2.03529037e+00]\n",
      " [ 9.49307504e-01  2.35811079e+00]\n",
      " [-1.69285978e+00 -1.24970648e+00]\n",
      " [ 5.76618547e-01 -1.70729973e+00]\n",
      " [ 1.86279831e+00  6.48795266e-01]\n",
      " [ 1.64118018e+00 -2.91919433e+00]\n",
      " [ 1.38161885e+00  9.63503241e-01]\n",
      " [-2.01288755e+00  2.66435670e+00]\n",
      " [-4.82625447e-01  2.30244457e-01]\n",
      " [ 4.72751148e-01  1.34047172e+00]\n",
      " [-1.27898103e+00 -1.55531465e+00]\n",
      " [ 2.36248333e+00  1.87177429e-01]\n",
      " [ 6.16432034e-01  2.96871101e-01]\n",
      " [-1.24893320e+00 -1.77340569e+00]\n",
      " [ 8.23184616e-01  1.40206732e-02]\n",
      " [ 1.49271298e+00  9.53871073e-01]\n",
      " [-3.78282277e-01  2.99821958e-01]\n",
      " [-5.34710385e-01  1.12448769e+00]\n",
      " [ 3.65007445e-01 -7.88973195e-01]\n",
      " [-1.22514861e+00  1.25091759e+00]\n",
      " [ 2.70856998e-01  9.97993198e-01]\n",
      " [-2.09878518e+00  1.86186417e+00]\n",
      " [-2.27803165e+00  2.86803512e+00]\n",
      " [ 9.97545653e-01 -2.60519013e+00]\n",
      " [-1.78655971e+00  1.60510153e+00]\n",
      " [-5.50104335e-01 -3.58397972e-01]\n",
      " [-1.79159347e+00 -1.67807958e+00]\n",
      " [-6.55799106e-01 -3.39105281e-01]\n",
      " [ 1.58395237e+00  9.11322881e-01]\n",
      " [ 1.10776245e+00 -6.46902573e-01]\n",
      " [ 3.00885034e-01 -2.35468804e+00]\n",
      " [-1.08023190e+00  3.86550770e-01]\n",
      " [-3.42784695e+00  4.89271989e+00]\n",
      " [ 1.58691344e+00 -1.85565670e-01]\n",
      " [ 2.04191215e+00  6.73979971e-01]\n",
      " [-1.43791746e+00  1.79771182e+00]\n",
      " [-1.83860558e-01  3.59069777e-01]\n",
      " [ 1.23238615e+00  1.55993902e-01]\n",
      " [-1.65612775e+00  1.59565533e+00]\n",
      " [-5.90613532e-01 -6.84432810e-01]\n",
      " [ 9.73131316e-01  8.28254185e-01]\n",
      " [ 1.98530761e+00 -4.32670296e-01]\n",
      " [-7.83168318e-01 -4.20504091e-01]\n",
      " [-4.70625495e-01  2.36471662e-01]\n",
      " [ 1.40123887e+00 -2.06462763e+00]\n",
      " [ 9.02077881e-02 -2.07918983e+00]\n",
      " [ 2.52274419e+00  8.76210401e-01]\n",
      " [-1.11690268e+00 -4.40727602e-01]\n",
      " [-3.28393880e-01 -7.22546344e-01]\n",
      " [ 3.53690444e-03  2.58456002e-01]\n",
      " [-7.07122636e-01 -8.10106125e-01]\n",
      " [ 5.41651057e-01  4.31062433e-01]\n",
      " [ 6.38007238e-01  2.36961728e+00]\n",
      " [-2.08286699e+00  1.91540435e+00]\n",
      " [ 1.27186125e+00 -3.62416765e-01]\n",
      " [ 1.33525500e+00  3.82912067e-01]\n",
      " [ 5.38528809e-02 -7.44296421e-01]\n",
      " [ 9.00963493e-02  1.43125585e-01]\n",
      " [-9.38931600e-01 -1.01298480e+00]\n",
      " [ 1.76213507e+00  1.31854424e+00]\n",
      " [ 1.21700442e+00  1.16601390e+00]\n",
      " [-1.11471536e+00  1.01041915e+00]\n",
      " [-1.48972818e-01  1.14562983e-01]\n",
      " [ 1.15402309e+00  1.51482003e-01]\n",
      " [-1.43549717e+00  2.45942965e+00]\n",
      " [-3.16122271e+00  3.10049930e+00]\n",
      " [ 1.33155495e+00 -2.44694800e+00]\n",
      " [ 1.46412674e+00 -4.93062525e-01]\n",
      " [ 2.49787001e+00  2.39401243e-01]\n",
      " [-1.44221275e+00  1.96888293e+00]\n",
      " [ 9.47175900e-02  1.85927137e+00]\n",
      " [ 6.32240402e-01  6.13061393e-01]\n",
      " [-7.55709952e-01 -7.69211702e-01]\n",
      " [ 6.63666080e-01  1.77147896e+00]\n",
      " [-9.65689208e-01  7.66903730e-01]\n",
      " [-8.33352128e-01 -1.18063183e+00]\n",
      " [-1.95460855e+00 -1.76626082e+00]\n",
      " [-1.67988611e+00 -1.52197060e+00]\n",
      " [ 1.25512632e+00  5.98065125e-02]\n",
      " [-2.18220192e+00 -2.06405353e+00]\n",
      " [-5.56294592e-01 -2.10022412e+00]\n",
      " [ 1.28044607e+00 -3.28427455e+00]\n",
      " [-3.73549222e-01 -2.08497142e+00]\n",
      " [-1.07693587e+00  1.15872515e+00]\n",
      " [ 2.72551824e-01  1.07003581e-01]\n",
      " [-2.52080430e-01 -6.13058389e-01]\n",
      " [ 6.75028527e-01  1.71048357e+00]\n",
      " [-1.78152923e+00 -2.06836647e+00]\n",
      " [-6.55975501e-01 -1.32001144e+00]\n",
      " [-1.24959703e+00  1.18610737e+00]\n",
      " [ 9.36651554e-03  2.30695520e+00]\n",
      " [ 8.30261685e-01 -2.05738144e-01]\n",
      " [-1.56599244e+00 -1.59025189e+00]\n",
      " [-2.33684839e+00  2.45912729e+00]\n",
      " [ 8.64781143e-01 -2.28836228e+00]\n",
      " [-1.68491930e+00 -1.20250950e+00]\n",
      " [ 5.98749800e-01 -9.78970070e-01]\n",
      " [-1.69598147e+00  2.29601523e+00]\n",
      " [-3.02686469e+00 -3.04014101e+00]\n",
      " [-6.53281690e-01 -8.23238106e-01]\n",
      " [-6.64668751e-01  9.73089007e-01]\n",
      " [-7.83227033e-01 -5.91111478e-01]\n",
      " [ 5.33158765e-01 -7.58036368e-01]\n",
      " [ 4.02199960e-01  1.27490784e+00]\n",
      " [-1.93584946e+00  1.50497633e+00]\n",
      " [ 7.99869944e-01  8.01587680e-01]\n",
      " [ 1.93935498e+00 -2.24530732e-01]\n",
      " [ 1.08918016e+00 -2.07387427e+00]\n",
      " [ 3.36644127e-01 -8.74466749e-01]\n",
      " [ 6.19524899e-01 -7.60574195e-01]\n",
      " [-7.39344226e-01 -1.13842749e+00]\n",
      " [ 2.09752818e+00  8.66986270e-01]\n",
      " [-1.37461755e+00  1.60247056e+00]\n",
      " [-7.08706201e-01 -7.65708773e-01]\n",
      " [-1.67625016e+00 -1.02416887e+00]\n",
      " [-1.43615671e+00  8.76463717e-01]\n",
      " [-1.12728442e+00  1.53798879e+00]\n",
      " [ 1.11052993e-02  1.37668109e+00]\n",
      " [ 8.80762647e-01 -2.43650009e+00]\n",
      " [ 5.39748957e-01  2.32364975e+00]\n",
      " [ 1.54258034e+00  1.41473636e+00]\n",
      " [-4.80959627e-01  1.54670451e+00]\n",
      " [-6.37112744e-03 -1.34537943e+00]\n",
      " [-1.36103961e+00  2.12820399e+00]\n",
      " [-8.26736793e-01 -9.77885809e-01]\n",
      " [-1.69277781e-01  1.82642997e-01]\n",
      " [-1.00537365e+00 -1.12968161e+00]\n",
      " [-1.54063838e+00 -1.94803648e+00]\n",
      " [-9.36533332e-01 -1.00111829e+00]\n",
      " [-3.39990477e-01 -2.23431254e-01]\n",
      " [-1.42613841e+00 -1.87494411e+00]\n",
      " [ 9.06659289e-01  6.59721317e-01]\n",
      " [ 2.51104017e+00 -4.46676339e-01]\n",
      " [-1.01476069e+00  9.14303691e-01]\n",
      " [ 6.37862693e-01  9.93694292e-01]\n",
      " [ 1.34667351e+00 -9.08406860e-01]\n",
      " [-1.96942072e+00  1.94123706e+00]\n",
      " [-3.69977346e-01  2.97497948e-01]\n",
      " [-1.59098813e+00  1.83574504e+00]\n",
      " [ 7.06177338e-01 -4.22783884e-01]\n",
      " [-7.42845379e-01  5.38012697e-01]\n",
      " [ 4.42881588e-01 -1.28640353e+00]\n",
      " [ 2.49815398e-01  3.02430184e-01]\n",
      " [ 2.59179889e+00 -2.96794787e-01]\n",
      " [ 7.52266051e-02 -1.19240817e+00]\n",
      " [-7.25867337e-01  4.32889638e-01]\n",
      " [-1.33870434e+00  1.75464890e+00]\n",
      " [ 1.06990574e+00 -2.19740282e+00]\n",
      " [-1.64166141e+00  2.74951433e+00]\n",
      " [ 1.23508256e+00 -1.75796365e+00]\n",
      " [-5.24160527e-02  5.80947822e-01]\n",
      " [ 2.19293890e+00  4.45131942e-01]\n",
      " [ 1.56419389e+00 -1.89323033e+00]\n",
      " [-1.33104324e+00  2.77154434e+00]\n",
      " [ 1.73499497e+00  9.84056115e-01]\n",
      " [ 1.63619442e+00 -3.53282478e-02]\n",
      " [-1.11054898e+00 -1.44701678e+00]\n",
      " [-1.48583806e+00 -1.58334984e+00]\n",
      " [-1.58680252e+00  1.94340247e+00]\n",
      " [-9.24266233e-02 -1.12495020e-01]\n",
      " [-2.13758252e+00  2.29455870e+00]\n",
      " [ 1.50089303e+00 -1.54436001e-01]\n",
      " [ 6.23754562e-01  9.82432033e-01]\n",
      " [ 8.44376056e-01  8.75243268e-01]\n",
      " [ 4.17012470e-01  1.35297941e+00]\n",
      " [-5.70108672e-01  3.47761342e-01]\n",
      " [ 7.16762121e-01 -2.34308309e+00]\n",
      " [-4.07900447e-02 -4.82261560e-01]\n",
      " [-3.53259991e-01 -2.01431784e+00]\n",
      " [ 5.14563297e-01 -1.01513628e+00]\n",
      " [ 8.22414603e-01 -6.41679016e-01]\n",
      " [-1.63146241e+00  3.36774160e+00]\n",
      " [ 1.40318480e+00 -1.00613739e+00]\n",
      " [-5.96833191e-01  5.44182275e-01]\n",
      " [ 1.17188635e+00 -1.12580147e+00]\n",
      " [ 3.18496182e-01 -1.65820609e+00]\n",
      " [ 1.50454896e+00  9.10631121e-01]\n",
      " [ 2.52740418e+00 -8.63618648e-02]\n",
      " [ 2.61475826e-01  1.02265963e+00]\n",
      " [ 2.52235729e+00 -1.69346509e-01]\n",
      " [ 6.07234197e-01 -1.02722028e+00]\n",
      " [ 1.08222658e+00  1.09724901e+00]\n",
      " [ 1.20729255e+00  1.43080489e+00]\n",
      " [-3.06165668e-01 -6.55810389e-01]\n",
      " [-2.29286267e+00 -2.47520859e+00]\n",
      " [-1.76042193e+00 -1.87788443e+00]\n",
      " [-7.50530295e-01  2.27882521e+00]\n",
      " [-7.15035032e-01 -5.15178287e-01]\n",
      " [-3.22087268e-01 -4.72146317e-01]\n",
      " [ 9.05505290e-01  7.42222833e-01]\n",
      " [-5.64649685e-01 -6.58488816e-01]\n",
      " [-2.47239395e+00  1.60935986e+00]\n",
      " [-8.14440680e-01  3.29879016e+00]\n",
      " [ 1.27893868e+00  3.40052876e-01]\n",
      " [-7.57320876e-01  3.23834278e-01]\n",
      " [ 5.96550954e-01 -9.47573421e-01]\n",
      " [ 1.13698719e+00 -1.45330574e+00]\n",
      " [ 1.75186092e+00 -2.55373852e+00]\n",
      " [-1.63392175e+00  5.50624873e-01]\n",
      " [-1.74775390e+00  1.85249197e+00]\n",
      " [ 1.38057051e+00  9.03037775e-01]\n",
      " [-4.67561517e-01  6.98424563e-02]\n",
      " [-4.79664163e-01  8.21024366e-02]\n",
      " [ 9.87833714e-01 -1.60704423e+00]\n",
      " [-1.15718765e-01  1.46642205e+00]\n",
      " [-1.35869555e+00 -1.26869085e+00]\n",
      " [ 2.25613288e+00  1.02539916e+00]\n",
      " [ 2.69526822e-01  1.70154933e+00]\n",
      " [-5.75843895e-01  3.27002234e-01]\n",
      " [ 5.41837802e-01 -4.75643054e-01]\n",
      " [-6.10290165e-02 -5.26054222e-01]\n",
      " [-1.05191813e+00  1.18698463e+00]\n",
      " [-3.38001849e+00  3.83855897e+00]\n",
      " [ 3.28926679e-01 -1.69007276e+00]\n",
      " [ 1.78476262e+00  7.45859178e-01]\n",
      " [-1.07466009e+00  9.35580020e-01]\n",
      " [ 1.38641446e+00 -1.06983607e+00]\n",
      " [-1.55754351e+00 -1.06042003e+00]\n",
      " [ 9.30324584e-01  5.07709073e-01]\n",
      " [ 1.25857960e+00  1.04659546e+00]\n",
      " [ 2.73705540e+00  5.89264765e-02]\n",
      " [ 1.82424219e+00  1.36322757e+00]\n",
      " [-9.68964584e-01  2.78155156e+00]\n",
      " [ 1.05362854e+00 -2.29710551e-01]\n",
      " [-1.19880421e+00 -1.18392565e+00]\n",
      " [ 5.64262000e-01  1.48668561e+00]\n",
      " [ 1.66097650e+00  4.72693189e-01]\n",
      " [-2.01635352e+00  1.10276257e+00]\n",
      " [ 2.47111757e+00  1.57084593e-01]\n",
      " [ 1.31898457e+00  9.09314326e-01]\n",
      " [ 8.22539845e-01  3.59245805e-01]\n",
      " [ 4.81811833e-01  5.69125166e-01]\n",
      " [ 9.96588122e-01  1.55997990e+00]\n",
      " [ 8.71838700e-01  4.01803703e-02]\n",
      " [ 1.68076736e+00  9.70653985e-01]\n",
      " [-9.59745000e-02  2.91505469e-01]\n",
      " [-1.97664315e+00  9.72707175e-01]\n",
      " [ 1.49611020e+00 -1.72753956e+00]\n",
      " [ 2.58457684e-01 -1.62093306e-01]\n",
      " [ 1.68403468e+00 -2.68783838e+00]\n",
      " [ 2.03290918e+00 -3.02388043e-01]\n",
      " [-8.19866536e-01  2.49908802e+00]\n",
      " [-1.43239671e+00 -9.41025156e-01]\n",
      " [-1.97859682e+00  2.80368594e+00]\n",
      " [ 6.14291222e-01 -1.50963310e+00]\n",
      " [ 7.00177932e-01 -9.02227445e-01]\n",
      " [-1.88542807e+00 -2.16836646e+00]\n",
      " [ 1.62589719e+00  8.27739712e-01]\n",
      " [ 1.76733804e-01  1.37157269e+00]\n",
      " [-1.96693302e-01 -8.33125757e-01]\n",
      " [-3.39280857e-01  1.86635109e+00]\n",
      " [-4.65765903e-01 -2.21422580e-01]\n",
      " [ 7.70551887e-01  1.42044226e+00]\n",
      " [-2.14902390e+00  2.34088069e+00]\n",
      " [-2.10970501e+00  2.98383846e+00]\n",
      " [ 2.86313202e+00  1.06996319e-01]\n",
      " [ 1.55841590e+00 -7.09514357e-01]\n",
      " [-2.39496315e+00  2.87462594e+00]\n",
      " [ 5.34864726e-02  1.11340104e+00]\n",
      " [-1.68704554e+00  1.06858308e+00]\n",
      " [ 1.63754599e+00  1.85980944e-01]\n",
      " [ 9.30877065e-01  1.22632349e+00]\n",
      " [-4.76346774e-01  5.65284387e-01]\n",
      " [ 1.42442148e+00  1.20937761e+00]\n",
      " [ 1.13672968e+00 -1.64706272e+00]\n",
      " [ 6.32392577e-01  4.33340530e-01]\n",
      " [ 6.52989188e-01  1.56060439e+00]\n",
      " [ 8.19466062e-01 -1.66974042e-01]\n",
      " [-1.11662601e+00 -1.53998285e+00]\n",
      " [-8.55678014e-01  1.22106704e+00]\n",
      " [-9.87926915e-01 -1.31017820e+00]\n",
      " [-2.34773970e-01 -5.83933027e-01]\n",
      " [-4.41693605e-01  4.51193856e-01]\n",
      " [-1.62134100e+00 -1.32804940e+00]\n",
      " [-2.22057253e-01  8.22138102e-01]\n",
      " [ 1.19516024e+00  4.24618803e-01]\n",
      " [ 1.93113172e+00 -8.91311868e-01]\n",
      " [ 3.80083939e-01  2.42456761e+00]\n",
      " [ 1.03201308e+00  6.18528492e-01]\n",
      " [-2.46836737e+00  1.92536052e+00]\n",
      " [-2.11489821e+00 -2.56852940e+00]\n",
      " [ 5.97092860e-01 -1.63607743e+00]\n",
      " [-1.31018642e+00 -6.21830037e-01]\n",
      " [-6.80951268e-01 -5.93601772e-01]\n",
      " [-3.92242059e-01 -5.07002002e-02]\n",
      " [ 8.71806730e-01 -6.85454335e-01]\n",
      " [-1.96279526e+00  1.63249599e+00]\n",
      " [-1.33734618e+00  1.49000953e+00]\n",
      " [-2.63617496e-01  1.43898481e+00]\n",
      " [-8.41647133e-01 -1.42294463e+00]\n",
      " [ 1.15791330e+00  1.36352224e+00]\n",
      " [ 2.47698781e-01 -1.86372482e+00]\n",
      " [-1.21255523e+00  1.03789011e+00]\n",
      " [-1.37225287e+00  1.62640443e+00]\n",
      " [-9.19267489e-01 -1.08239960e+00]\n",
      " [-7.92527576e-01 -7.24453452e-01]\n",
      " [-5.44293058e-01 -5.20362270e-01]\n",
      " [ 7.01901123e-02 -2.28262448e-01]] [1 0 1 0 0 0 0 1 0 0 0 0 0 0 1 0 0 1 0 0 0 1 0 0 0 0 0 0 1 1 1 1 0 0 0 0 1\n",
      " 1 1 1 1 0 0 1 0 0 0 1 1 1 1 1 0 1 0 0 1 0 0 1 1 1 0 1 1 1 0 0 1 0 1 0 0 1\n",
      " 1 0 1 0 1 1 1 0 0 1 1 0 1 1 1 0 0 0 1 0 0 0 0 0 0 0 0 1 0 1 1 0 1 1 0 0 0\n",
      " 0 0 0 1 0 1 1 1 0 1 1 0 1 1 1 0 1 0 0 0 1 1 0 0 1 0 0 0 0 1 0 0 1 0 1 1 1\n",
      " 1 0 1 1 0 1 0 1 1 1 0 0 0 1 1 1 0 1 1]\n",
      "[[ 1.29042443e+00  2.82262284e-01]\n",
      " [-8.19894716e-01  2.11292617e+00]\n",
      " [ 3.82368479e-01 -1.26403752e+00]\n",
      " [-1.24610795e-01  1.36251299e+00]\n",
      " [-6.16659657e-01  7.25057484e-02]\n",
      " [ 6.72677991e-01 -2.08576370e+00]\n",
      " [-5.45912046e-01  1.85521435e+00]\n",
      " [-2.61137870e-01 -9.69903367e-02]\n",
      " [-3.55795851e-01 -3.62717676e-01]\n",
      " [-7.06682130e-01 -1.07055379e+00]\n",
      " [ 1.07053843e+00  4.90016254e-01]\n",
      " [-1.55344886e+00 -1.66560832e+00]\n",
      " [-9.59873008e-01  2.16792962e+00]\n",
      " [-8.22185251e-01  1.61061133e+00]\n",
      " [ 3.11981911e-01  8.88358650e-02]\n",
      " [ 1.22480645e+00  5.91568796e-01]\n",
      " [ 5.86961751e-01  1.02909919e+00]\n",
      " [ 3.86722348e+00 -4.13957568e-02]\n",
      " [ 1.00923187e+00  2.93314034e-01]\n",
      " [ 1.20128264e+00 -2.35836252e+00]\n",
      " [ 9.12330979e-01  1.85824149e+00]\n",
      " [ 4.11089645e-01 -1.73308665e-01]\n",
      " [ 1.22469362e+00  3.69967584e-01]\n",
      " [ 6.10109059e-01 -2.25637775e+00]\n",
      " [-1.43987671e+00 -1.36912691e+00]\n",
      " [-2.19979696e+00 -2.46828587e+00]\n",
      " [ 7.21878073e-01 -1.65937850e+00]\n",
      " [-8.32974438e-01 -9.12924700e-01]\n",
      " [-6.07096408e-01 -6.08476872e-01]\n",
      " [ 7.63749820e-01  6.89794484e-01]\n",
      " [ 9.93397953e-02 -2.32401865e+00]\n",
      " [ 1.67558093e+00  1.10776185e+00]\n",
      " [ 8.09279860e-02 -5.96087858e-01]\n",
      " [ 8.00416896e-01 -7.18936921e-01]\n",
      " [-9.13555040e-02 -1.30743968e+00]\n",
      " [-5.91854979e-02  2.03529037e+00]\n",
      " [-1.69285978e+00 -1.24970648e+00]\n",
      " [ 5.76618547e-01 -1.70729973e+00]\n",
      " [ 1.86279831e+00  6.48795266e-01]\n",
      " [-2.01288755e+00  2.66435670e+00]\n",
      " [-4.82625447e-01  2.30244457e-01]\n",
      " [-2.12577536e+00  2.58196064e+00]\n",
      " [-2.77004694e-01 -1.21279829e-01]\n",
      " [-1.27898103e+00 -1.55531465e+00]\n",
      " [ 2.36248333e+00  1.87177429e-01]\n",
      " [ 1.76721015e+00 -1.22784804e+00]\n",
      " [-1.06414734e+00 -8.49532812e-01]\n",
      " [ 6.16432034e-01  2.96871101e-01]\n",
      " [ 1.49271298e+00  9.53871073e-01]\n",
      " [ 2.91196387e-01  1.51784984e+00]\n",
      " [-5.34710385e-01  1.12448769e+00]\n",
      " [ 3.65007445e-01 -7.88973195e-01]\n",
      " [-1.22514861e+00  1.25091759e+00]\n",
      " [-2.09878518e+00  1.86186417e+00]\n",
      " [ 2.02958534e+00 -1.46011145e+00]\n",
      " [ 9.97545653e-01 -2.60519013e+00]\n",
      " [-1.26389923e+00 -8.59109105e-01]\n",
      " [-1.25514645e+00 -1.12264522e+00]\n",
      " [ 3.93922809e-01 -6.51300327e-01]\n",
      " [ 1.10776245e+00 -6.46902573e-01]\n",
      " [ 1.32371621e+00  1.22853972e+00]\n",
      " [-6.81244858e-01 -8.03437172e-01]\n",
      " [ 1.58691344e+00 -1.85565670e-01]\n",
      " [ 1.02505064e+00  1.30157097e+00]\n",
      " [-1.83860558e-01  3.59069777e-01]\n",
      " [-1.83155403e+00  1.81639317e+00]\n",
      " [ 1.23238615e+00  1.55993902e-01]\n",
      " [ 2.05867429e+00 -6.05076144e-02]\n",
      " [ 2.62533695e+00  9.14394858e-02]\n",
      " [-2.19149891e-02 -3.20293531e-02]\n",
      " [-5.90613532e-01 -6.84432810e-01]\n",
      " [ 9.73131316e-01  8.28254185e-01]\n",
      " [ 4.81859017e-01  3.33063392e-01]\n",
      " [-1.19675581e+00 -8.56258026e-01]\n",
      " [ 1.13290849e+00  1.08360328e+00]\n",
      " [ 9.28485577e-01  1.19795908e+00]\n",
      " [ 1.98530761e+00 -4.32670296e-01]\n",
      " [ 4.56367654e-01  1.46985545e+00]\n",
      " [-1.37306594e+00  1.37104866e+00]\n",
      " [ 1.40123887e+00 -2.06462763e+00]\n",
      " [-4.17550132e-01  1.75346623e+00]\n",
      " [-1.11690268e+00 -4.40727602e-01]\n",
      " [ 3.53690444e-03  2.58456002e-01]\n",
      " [ 6.72852787e-01  7.66173705e-01]\n",
      " [-1.08068553e+00 -5.03366969e-01]\n",
      " [ 1.33525500e+00  3.82912067e-01]\n",
      " [ 1.87927735e+00  2.92366825e-01]\n",
      " [ 5.38528809e-02 -7.44296421e-01]\n",
      " [ 9.00963493e-02  1.43125585e-01]\n",
      " [ 1.13892066e+00 -1.10915264e+00]\n",
      " [-9.38931600e-01 -1.01298480e+00]\n",
      " [-1.71906568e+00 -1.05132140e+00]\n",
      " [-1.26067182e+00 -9.02567923e-01]\n",
      " [-1.02658286e+00 -5.05666431e-01]\n",
      " [ 1.76213507e+00  1.31854424e+00]\n",
      " [ 1.21700442e+00  1.16601390e+00]\n",
      " [-1.48972818e-01  1.14562983e-01]\n",
      " [-1.06795959e+00  5.65800918e-02]\n",
      " [-6.97881072e-01  9.93368466e-02]\n",
      " [-3.05351669e-01  2.30296283e-01]\n",
      " [-1.04704007e+00  1.20933574e+00]\n",
      " [-1.37959238e+00  1.57930130e+00]\n",
      " [ 1.33155495e+00 -2.44694800e+00]\n",
      " [ 1.46412674e+00 -4.93062525e-01]\n",
      " [ 2.49787001e+00  2.39401243e-01]\n",
      " [ 9.40294627e-02 -1.27578192e+00]\n",
      " [-1.44221275e+00  1.96888293e+00]\n",
      " [-9.23337387e-01  9.12698290e-01]\n",
      " [ 9.47175900e-02  1.85927137e+00]\n",
      " [ 2.53459654e-01 -2.17858256e+00]\n",
      " [ 1.82003889e+00 -1.20440717e+00]\n",
      " [-4.45621746e-01 -1.06314315e-01]\n",
      " [ 1.32964637e+00  3.11871487e-02]\n",
      " [-5.90038123e-01 -9.20647758e-01]\n",
      " [ 1.58820905e+00  5.89188185e-01]\n",
      " [-2.06555278e+00  1.26468141e+00]\n",
      " [-9.65689208e-01  7.66903730e-01]\n",
      " [-8.33352128e-01 -1.18063183e+00]\n",
      " [-1.67988611e+00 -1.52197060e+00]\n",
      " [-2.18220192e+00 -2.06405353e+00]\n",
      " [-7.79824682e-01  9.47787003e-02]\n",
      " [-3.73549222e-01 -2.08497142e+00]\n",
      " [ 1.76088940e-01  2.62048670e-01]\n",
      " [-6.55975501e-01 -1.32001144e+00]\n",
      " [ 9.36651554e-03  2.30695520e+00]\n",
      " [-2.10124951e+00  1.92545891e+00]\n",
      " [ 1.28345121e+00  1.16826597e+00]\n",
      " [ 8.30261685e-01 -2.05738144e-01]\n",
      " [ 8.64781143e-01 -2.28836228e+00]\n",
      " [ 5.98749800e-01 -9.78970070e-01]\n",
      " [ 1.86700979e+00  8.50190783e-01]\n",
      " [ 7.47330866e-01  4.43427701e-01]\n",
      " [-3.02686469e+00 -3.04014101e+00]\n",
      " [-7.39107679e-01 -8.96246045e-01]\n",
      " [ 5.33158765e-01 -7.58036368e-01]\n",
      " [ 3.61469530e-01  1.97573141e+00]\n",
      " [-1.93584946e+00  1.50497633e+00]\n",
      " [ 1.93935498e+00 -2.24530732e-01]\n",
      " [ 7.12019180e-01  1.07528842e-01]\n",
      " [ 3.36644127e-01 -8.74466749e-01]\n",
      " [-1.08060610e+00  1.17889169e+00]\n",
      " [ 3.14559001e-01 -4.44481211e+00]\n",
      " [-5.02421717e-01 -7.00130156e-01]\n",
      " [ 2.19266049e+00  4.90037320e-01]\n",
      " [ 1.20416106e+00  1.01591043e+00]\n",
      " [ 6.19524899e-01 -7.60574195e-01]\n",
      " [-7.39344226e-01 -1.13842749e+00]\n",
      " [ 2.09752818e+00  8.66986270e-01]\n",
      " [ 1.80853349e+00 -3.06985058e-01]\n",
      " [-7.08706201e-01 -7.65708773e-01]\n",
      " [-1.67625016e+00 -1.02416887e+00]\n",
      " [ 1.20388239e+00  4.25053758e-01]\n",
      " [-1.19285118e+00 -1.73844899e+00]\n",
      " [-1.12728442e+00  1.53798879e+00]\n",
      " [-2.27838479e+00  3.15040630e+00]\n",
      " [ 1.11052993e-02  1.37668109e+00]\n",
      " [-2.21817005e+00  3.38196526e+00]\n",
      " [ 8.80762647e-01 -2.43650009e+00]\n",
      " [-4.24973604e-01  1.12042868e+00]\n",
      " [ 5.39748957e-01  2.32364975e+00]\n",
      " [ 1.54258034e+00  1.41473636e+00]\n",
      " [-1.43145336e+00 -9.27982677e-01]\n",
      " [-4.80959627e-01  1.54670451e+00]\n",
      " [-6.37112744e-03 -1.34537943e+00]\n",
      " [-1.36103961e+00  2.12820399e+00]\n",
      " [-8.26736793e-01 -9.77885809e-01]\n",
      " [-9.36533332e-01 -1.00111829e+00]\n",
      " [-2.36660624e-01 -1.92918517e-01]\n",
      " [-1.44118490e+00  1.35360837e+00]\n",
      " [ 3.15004097e+00 -8.61700554e-02]\n",
      " [ 6.87018419e-01 -8.37345400e-01]\n",
      " [-3.39990477e-01 -2.23431254e-01]\n",
      " [-4.83215015e-01  1.30080863e+00]\n",
      " [-9.64116741e-01  1.97229584e+00]\n",
      " [ 9.06659289e-01  6.59721317e-01]\n",
      " [ 2.24423767e+00 -5.60571262e-02]\n",
      " [-1.05570132e+00 -9.96388166e-01]\n",
      " [ 1.33719880e+00  2.62599398e-01]\n",
      " [-4.94691154e-01 -2.77859358e-01]\n",
      " [-2.65485072e+00  3.47901312e+00]\n",
      " [-1.96942072e+00  1.94123706e+00]\n",
      " [ 2.37877059e-01 -2.35922853e+00]\n",
      " [-1.91942029e+00 -2.05440598e+00]\n",
      " [ 4.42881588e-01 -1.28640353e+00]\n",
      " [ 2.49815398e-01  3.02430184e-01]\n",
      " [-2.06198039e+00 -1.44507147e+00]\n",
      " [-7.25867337e-01  4.32889638e-01]\n",
      " [ 1.06990574e+00 -2.19740282e+00]\n",
      " [-2.03435044e+00 -2.03256446e+00]\n",
      " [-1.28572365e+00 -1.38201969e+00]\n",
      " [-5.24160527e-02  5.80947822e-01]\n",
      " [ 2.19293890e+00  4.45131942e-01]\n",
      " [-2.17344704e+00 -2.57379342e+00]\n",
      " [ 1.63619442e+00 -3.53282478e-02]\n",
      " [-9.24266233e-02 -1.12495020e-01]\n",
      " [ 1.50089303e+00 -1.54436001e-01]\n",
      " [-8.37823271e-01 -3.99099171e-01]\n",
      " [ 6.23754562e-01  9.82432033e-01]\n",
      " [-4.58199556e-01 -1.66701639e+00]\n",
      " [ 8.44376056e-01  8.75243268e-01]\n",
      " [ 4.17012470e-01  1.35297941e+00]\n",
      " [-5.70108672e-01  3.47761342e-01]\n",
      " [ 9.28442116e-02 -7.74211947e-01]\n",
      " [ 1.84843542e-01 -6.07897786e-01]\n",
      " [-2.03342484e+00  1.91771082e+00]\n",
      " [-7.70730638e-01  1.26632015e+00]\n",
      " [-1.33323386e+00 -1.04067726e+00]\n",
      " [-7.00830266e-01  1.61345377e+00]\n",
      " [ 5.14563297e-01 -1.01513628e+00]\n",
      " [-7.48162302e-01  1.03093864e+00]\n",
      " [-6.84684736e-01 -6.83426511e-01]\n",
      " [-1.64330740e+00 -1.81469872e+00]\n",
      " [-1.63146241e+00  3.36774160e+00]\n",
      " [-2.01754980e+00 -2.25001127e+00]\n",
      " [ 1.40318480e+00 -1.00613739e+00]\n",
      " [-1.02142589e+00 -8.87604393e-01]\n",
      " [-3.92292792e-01 -7.92314754e-01]\n",
      " [ 1.17188635e+00 -1.12580147e+00]\n",
      " [ 2.52740418e+00 -8.63618648e-02]\n",
      " [ 2.61475826e-01  1.02265963e+00]\n",
      " [ 2.52235729e+00 -1.69346509e-01]\n",
      " [-1.77737574e-01 -7.19374306e-01]\n",
      " [ 6.07234197e-01 -1.02722028e+00]\n",
      " [ 1.08222658e+00  1.09724901e+00]\n",
      " [ 1.20729255e+00  1.43080489e+00]\n",
      " [ 3.02734096e-01  9.62535861e-01]\n",
      " [-7.50530295e-01  2.27882521e+00]\n",
      " [-1.41058017e+00 -1.46225694e+00]\n",
      " [ 9.05505290e-01  7.42222833e-01]\n",
      " [-2.47239395e+00  1.60935986e+00]\n",
      " [-8.14440680e-01  3.29879016e+00]\n",
      " [-2.14630101e+00  2.37866558e+00]\n",
      " [ 1.37571883e+00  1.22184801e+00]\n",
      " [ 1.85949233e+00 -4.22877391e-01]\n",
      " [ 7.55297027e-01  1.68253505e-01]\n",
      " [ 1.27893868e+00  3.40052876e-01]\n",
      " [-1.40684807e-02  1.81160131e+00]\n",
      " [-1.82346663e+00  2.33838089e+00]\n",
      " [-1.93206588e+00 -2.44063544e+00]\n",
      " [ 5.96550954e-01 -9.47573421e-01]\n",
      " [ 1.59581338e+00  2.95697473e-01]\n",
      " [ 1.13698719e+00 -1.45330574e+00]\n",
      " [-3.45024666e-01  2.40884708e+00]\n",
      " [ 1.54255299e+00  7.55597482e-01]\n",
      " [ 8.84816091e-01  7.13462833e-01]\n",
      " [ 1.38057051e+00  9.03037775e-01]\n",
      " [-4.67561517e-01  6.98424563e-02]\n",
      " [ 1.54591417e+00  3.17145213e-01]\n",
      " [-4.79664163e-01  8.21024366e-02]\n",
      " [ 9.87833714e-01 -1.60704423e+00]\n",
      " [-1.15718765e-01  1.46642205e+00]\n",
      " [ 5.41837802e-01 -4.75643054e-01]\n",
      " [-1.05191813e+00  1.18698463e+00]\n",
      " [-3.38001849e+00  3.83855897e+00]\n",
      " [ 1.38641446e+00 -1.06983607e+00]\n",
      " [-1.79637194e+00 -2.06980012e+00]\n",
      " [-1.55754351e+00 -1.06042003e+00]\n",
      " [ 9.30324584e-01  5.07709073e-01]\n",
      " [ 1.25857960e+00  1.04659546e+00]\n",
      " [ 9.40216223e-01 -1.09939807e+00]\n",
      " [ 1.44872743e+00 -1.94844694e+00]\n",
      " [ 1.82424219e+00  1.36322757e+00]\n",
      " [-1.19880421e+00 -1.18392565e+00]\n",
      " [ 5.64262000e-01  1.48668561e+00]\n",
      " [ 2.30755630e-01  1.73504150e+00]\n",
      " [-3.04971595e+00  3.62371012e+00]\n",
      " [ 6.47376657e-01 -1.12556213e-01]\n",
      " [-6.22136899e-01 -7.66934972e-01]\n",
      " [-1.27064417e+00  7.69740624e-01]\n",
      " [ 1.61088739e+00  2.68228004e-01]\n",
      " [ 1.31898457e+00  9.09314326e-01]\n",
      " [ 8.22539845e-01  3.59245805e-01]\n",
      " [ 4.81811833e-01  5.69125166e-01]\n",
      " [-1.12225258e+00 -1.46832992e+00]\n",
      " [ 8.71838700e-01  4.01803703e-02]\n",
      " [ 1.67873276e-01  1.23445759e-01]\n",
      " [-1.44859320e+00 -1.14862307e+00]\n",
      " [ 2.39736278e+00  6.01759041e-01]\n",
      " [-9.59745000e-02  2.91505469e-01]\n",
      " [-1.97664315e+00  9.72707175e-01]\n",
      " [ 1.49611020e+00 -1.72753956e+00]\n",
      " [-4.51832079e-01 -3.72701542e-02]\n",
      " [ 1.28277687e+00 -1.31131410e+00]\n",
      " [ 1.50918277e+00  9.47639509e-01]\n",
      " [ 1.68403468e+00 -2.68783838e+00]\n",
      " [-1.25501806e+00 -1.21882407e+00]\n",
      " [-8.19866536e-01  2.49908802e+00]\n",
      " [ 1.10904854e-01  1.35301097e-01]\n",
      " [ 6.14291222e-01 -1.50963310e+00]\n",
      " [-1.07977063e+00  1.37843899e+00]\n",
      " [-1.88542807e+00 -2.16836646e+00]\n",
      " [-2.40336683e-01  1.92830463e+00]\n",
      " [ 1.62589719e+00  8.27739712e-01]\n",
      " [-1.96693302e-01 -8.33125757e-01]\n",
      " [ 1.71105568e+00  1.06901985e+00]\n",
      " [-1.47334499e+00 -1.64544334e+00]\n",
      " [-2.14902390e+00  2.34088069e+00]\n",
      " [ 1.24115403e+00  7.95582166e-01]\n",
      " [-2.10970501e+00  2.98383846e+00]\n",
      " [-5.24281525e-01 -5.55809923e-01]\n",
      " [ 5.34864726e-02  1.11340104e+00]\n",
      " [-1.29546381e+00 -1.10475868e+00]\n",
      " [ 1.42442148e+00  1.20937761e+00]\n",
      " [ 2.87350179e-01 -3.61924385e-01]\n",
      " [ 1.13672968e+00 -1.64706272e+00]\n",
      " [-1.41129836e+00 -1.17410602e+00]\n",
      " [ 8.19466062e-01 -1.66974042e-01]\n",
      " [-1.11662601e+00 -1.53998285e+00]\n",
      " [-4.97886927e-01  4.50691640e-01]\n",
      " [-9.87926915e-01 -1.31017820e+00]\n",
      " [-4.41693605e-01  4.51193856e-01]\n",
      " [ 3.80083939e-01  2.42456761e+00]\n",
      " [ 1.03201308e+00  6.18528492e-01]\n",
      " [-1.91806697e+00  1.97604387e+00]\n",
      " [ 2.14973194e+00  7.82289889e-01]\n",
      " [ 5.97092860e-01 -1.63607743e+00]\n",
      " [-1.31018642e+00 -6.21830037e-01]\n",
      " [-1.30291397e+00 -1.39729303e+00]\n",
      " [ 1.14355862e+00 -1.03245332e+00]\n",
      " [ 5.38921603e-01 -1.07870469e+00]\n",
      " [-5.10613729e-02  1.72022192e+00]\n",
      " [-1.33734618e+00  1.49000953e+00]\n",
      " [-2.63617496e-01  1.43898481e+00]\n",
      " [ 2.47698781e-01 -1.86372482e+00]\n",
      " [-1.21255523e+00  1.03789011e+00]\n",
      " [-1.37225287e+00  1.62640443e+00]\n",
      " [-9.19267489e-01 -1.08239960e+00]\n",
      " [-7.92527576e-01 -7.24453452e-01]\n",
      " [-5.44293058e-01 -5.20362270e-01]\n",
      " [-5.14768072e-01  1.24616940e+00]\n",
      " [ 8.66074457e-01  1.51906037e+00]\n",
      " [ 1.86826929e-01  1.01402911e-01]\n",
      " [ 6.00413936e-01  6.08234338e-01]\n",
      " [-6.77850983e-01  1.24565189e+00]] [0 1 0 0 0 0 0 0 1 1 0 0 1 0 0 1 0 1 0 1 1 0 0 1 1 1 1 0 0 0 0 0 1 1 1 1 0\n",
      " 0 1 0 1 0 0 1 1 1 0 1 1 1 1 1 0 1 0 0 0 0 1 1 0 1 0 1 0 1 0 1 0 1 0 1 1 0\n",
      " 1 1 1 0 0 0 1 1 1 0 1 1 0 1 1 1 1 1 0 0 1 1 0 0 1 1 0 1 0 0 1 0 1 0 0 0 0\n",
      " 0 0 1 1 1 1 0 1 1 1 1 0 1 1 1 1 0 0 1 1 1 0 0 1 0 1 0 1 1 0 1 1 0 1 1 1 1\n",
      " 1 1 1 1 0 0 1 0 0 1 0 0 0 0 1 0 1 0]\n"
     ]
    }
   ],
   "source": [
    "cv = KFold(n_splits=3, shuffle=True, random_state=0)\n",
    "\n",
    "for train_index, test_index in cv.split(X):\n",
    "    print(X[train_index], y[test_index])\n",
    "    \n",
    "# cv.split(X)는 X를 k-fold로 나눈 뒤 각 fold에서의 (train_index, test_index)를 반환하는 iterable"
   ]
  },
  {
   "cell_type": "code",
   "execution_count": 28,
   "metadata": {},
   "outputs": [],
   "source": [
    "kfold = KFold(n_splits=5, shuffle=True, random_state=0) # target이 골고루 분포되도록 shuffle 옵션"
   ]
  },
  {
   "cell_type": "code",
   "execution_count": 29,
   "metadata": {},
   "outputs": [
    {
     "name": "stderr",
     "output_type": "stream",
     "text": [
      "/Users/youngseo/anaconda3/lib/python3.7/site-packages/sklearn/linear_model/logistic.py:432: FutureWarning: Default solver will be changed to 'lbfgs' in 0.22. Specify a solver to silence this warning.\n",
      "  FutureWarning)\n",
      "/Users/youngseo/anaconda3/lib/python3.7/site-packages/sklearn/linear_model/logistic.py:432: FutureWarning: Default solver will be changed to 'lbfgs' in 0.22. Specify a solver to silence this warning.\n",
      "  FutureWarning)\n",
      "/Users/youngseo/anaconda3/lib/python3.7/site-packages/sklearn/linear_model/logistic.py:432: FutureWarning: Default solver will be changed to 'lbfgs' in 0.22. Specify a solver to silence this warning.\n",
      "  FutureWarning)\n",
      "/Users/youngseo/anaconda3/lib/python3.7/site-packages/sklearn/linear_model/logistic.py:432: FutureWarning: Default solver will be changed to 'lbfgs' in 0.22. Specify a solver to silence this warning.\n",
      "  FutureWarning)\n",
      "/Users/youngseo/anaconda3/lib/python3.7/site-packages/sklearn/linear_model/logistic.py:432: FutureWarning: Default solver will be changed to 'lbfgs' in 0.22. Specify a solver to silence this warning.\n",
      "  FutureWarning)\n"
     ]
    },
    {
     "data": {
      "text/plain": [
       "array([0.86, 0.82, 0.83, 0.86, 0.89])"
      ]
     },
     "execution_count": 29,
     "metadata": {},
     "output_type": "execute_result"
    }
   ],
   "source": [
    "scores = cross_val_score(LogisticRegression(), X, y, cv=kfold)  # cross_val_score(모델, 데이터, 타깃)\n",
    "scores # 각 fold에 대한 score"
   ]
  },
  {
   "cell_type": "code",
   "execution_count": 30,
   "metadata": {},
   "outputs": [
    {
     "name": "stderr",
     "output_type": "stream",
     "text": [
      "/Users/youngseo/anaconda3/lib/python3.7/site-packages/sklearn/model_selection/_split.py:1978: FutureWarning: The default value of cv will change from 3 to 5 in version 0.22. Specify it explicitly to silence this warning.\n",
      "  warnings.warn(CV_WARNING, FutureWarning)\n",
      "/Users/youngseo/anaconda3/lib/python3.7/site-packages/sklearn/linear_model/logistic.py:432: FutureWarning: Default solver will be changed to 'lbfgs' in 0.22. Specify a solver to silence this warning.\n",
      "  FutureWarning)\n",
      "/Users/youngseo/anaconda3/lib/python3.7/site-packages/sklearn/linear_model/logistic.py:432: FutureWarning: Default solver will be changed to 'lbfgs' in 0.22. Specify a solver to silence this warning.\n",
      "  FutureWarning)\n",
      "/Users/youngseo/anaconda3/lib/python3.7/site-packages/sklearn/linear_model/logistic.py:432: FutureWarning: Default solver will be changed to 'lbfgs' in 0.22. Specify a solver to silence this warning.\n",
      "  FutureWarning)\n"
     ]
    },
    {
     "data": {
      "text/plain": [
       "array([0.79640719, 0.88622754, 0.87951807])"
      ]
     },
     "execution_count": 30,
     "metadata": {},
     "output_type": "execute_result"
    }
   ],
   "source": [
    "scores = cross_val_score(LogisticRegression(), X, y) \n",
    "scores \n",
    "# cross_val_score의 기본값은 k=3"
   ]
  },
  {
   "cell_type": "code",
   "execution_count": 31,
   "metadata": {},
   "outputs": [
    {
     "name": "stderr",
     "output_type": "stream",
     "text": [
      "/Users/youngseo/anaconda3/lib/python3.7/site-packages/sklearn/linear_model/logistic.py:432: FutureWarning: Default solver will be changed to 'lbfgs' in 0.22. Specify a solver to silence this warning.\n",
      "  FutureWarning)\n",
      "/Users/youngseo/anaconda3/lib/python3.7/site-packages/sklearn/linear_model/logistic.py:432: FutureWarning: Default solver will be changed to 'lbfgs' in 0.22. Specify a solver to silence this warning.\n",
      "  FutureWarning)\n",
      "/Users/youngseo/anaconda3/lib/python3.7/site-packages/sklearn/linear_model/logistic.py:432: FutureWarning: Default solver will be changed to 'lbfgs' in 0.22. Specify a solver to silence this warning.\n",
      "  FutureWarning)\n",
      "/Users/youngseo/anaconda3/lib/python3.7/site-packages/sklearn/linear_model/logistic.py:432: FutureWarning: Default solver will be changed to 'lbfgs' in 0.22. Specify a solver to silence this warning.\n",
      "  FutureWarning)\n",
      "/Users/youngseo/anaconda3/lib/python3.7/site-packages/sklearn/linear_model/logistic.py:432: FutureWarning: Default solver will be changed to 'lbfgs' in 0.22. Specify a solver to silence this warning.\n",
      "  FutureWarning)\n"
     ]
    },
    {
     "data": {
      "text/plain": [
       "array([0.81188119, 0.8       , 0.87      , 0.89      , 0.86868687])"
      ]
     },
     "execution_count": 31,
     "metadata": {},
     "output_type": "execute_result"
    }
   ],
   "source": [
    "scores = cross_val_score(LogisticRegression(), X, y, cv=5)\n",
    "scores\n",
    "# cross_val_score는 기본적으로 분류 모델에 대해 StratifiedKfold 사용"
   ]
  },
  {
   "cell_type": "code",
   "execution_count": 32,
   "metadata": {},
   "outputs": [
    {
     "data": {
      "text/plain": [
       "0.8481136113611362"
      ]
     },
     "metadata": {},
     "output_type": "display_data"
    },
    {
     "data": {
      "text/plain": [
       "0.0012568901140139006"
      ]
     },
     "metadata": {},
     "output_type": "display_data"
    }
   ],
   "source": [
    "display(scores.mean(), scores.var()) # 교차검증 점수들의 평균과 분산 확인"
   ]
  },
  {
   "cell_type": "markdown",
   "metadata": {},
   "source": [
    "# 4. Grid Search"
   ]
  },
  {
   "cell_type": "code",
   "execution_count": 33,
   "metadata": {},
   "outputs": [],
   "source": [
    "from sklearn.datasets import load_iris\n",
    "from sklearn.model_selection import train_test_split\n",
    "from sklearn.tree import DecisionTreeClassifier\n",
    "from sklearn.model_selection import GridSearchCV\n",
    "from sklearn.metrics import accuracy_score\n"
   ]
  },
  {
   "cell_type": "code",
   "execution_count": 34,
   "metadata": {},
   "outputs": [],
   "source": [
    "iris_data = load_iris()"
   ]
  },
  {
   "cell_type": "code",
   "execution_count": 35,
   "metadata": {},
   "outputs": [],
   "source": [
    "X_train, X_test, y_train,y_test = train_test_split(iris_data.data,iris_data.target, test_size = 0.2, random_state = 121)"
   ]
  },
  {
   "cell_type": "code",
   "execution_count": 36,
   "metadata": {},
   "outputs": [],
   "source": [
    "dtree = DecisionTreeClassifier()"
   ]
  },
  {
   "cell_type": "code",
   "execution_count": 37,
   "metadata": {},
   "outputs": [],
   "source": [
    "parameters = {'max_depth':[1,2,3], 'min_samples_split':[2,3]}"
   ]
  },
  {
   "cell_type": "code",
   "execution_count": 38,
   "metadata": {},
   "outputs": [],
   "source": [
    "grid_dtree = GridSearchCV(dtree, param_grid = parameters, cv = 3, refit = True)"
   ]
  },
  {
   "cell_type": "code",
   "execution_count": 39,
   "metadata": {},
   "outputs": [
    {
     "data": {
      "text/plain": [
       "GridSearchCV(cv=3, error_score='raise-deprecating',\n",
       "             estimator=DecisionTreeClassifier(class_weight=None,\n",
       "                                              criterion='gini', max_depth=None,\n",
       "                                              max_features=None,\n",
       "                                              max_leaf_nodes=None,\n",
       "                                              min_impurity_decrease=0.0,\n",
       "                                              min_impurity_split=None,\n",
       "                                              min_samples_leaf=1,\n",
       "                                              min_samples_split=2,\n",
       "                                              min_weight_fraction_leaf=0.0,\n",
       "                                              presort=False, random_state=None,\n",
       "                                              splitter='best'),\n",
       "             iid='warn', n_jobs=None,\n",
       "             param_grid={'max_depth': [1, 2, 3], 'min_samples_split': [2, 3]},\n",
       "             pre_dispatch='2*n_jobs', refit=True, return_train_score=False,\n",
       "             scoring=None, verbose=0)"
      ]
     },
     "execution_count": 39,
     "metadata": {},
     "output_type": "execute_result"
    }
   ],
   "source": [
    "grid_dtree.fit(X_train, y_train)"
   ]
  },
  {
   "cell_type": "code",
   "execution_count": 40,
   "metadata": {},
   "outputs": [],
   "source": [
    "scores_df = pd.DataFrame(grid_dtree.cv_results_)"
   ]
  },
  {
   "cell_type": "code",
   "execution_count": 41,
   "metadata": {},
   "outputs": [
    {
     "data": {
      "text/html": [
       "<div>\n",
       "<style scoped>\n",
       "    .dataframe tbody tr th:only-of-type {\n",
       "        vertical-align: middle;\n",
       "    }\n",
       "\n",
       "    .dataframe tbody tr th {\n",
       "        vertical-align: top;\n",
       "    }\n",
       "\n",
       "    .dataframe thead th {\n",
       "        text-align: right;\n",
       "    }\n",
       "</style>\n",
       "<table border=\"1\" class=\"dataframe\">\n",
       "  <thead>\n",
       "    <tr style=\"text-align: right;\">\n",
       "      <th></th>\n",
       "      <th>params</th>\n",
       "      <th>mean_test_score</th>\n",
       "      <th>rank_test_score</th>\n",
       "      <th>split0_test_score</th>\n",
       "      <th>split1_test_score</th>\n",
       "      <th>split2_test_score</th>\n",
       "    </tr>\n",
       "  </thead>\n",
       "  <tbody>\n",
       "    <tr>\n",
       "      <th>0</th>\n",
       "      <td>{'max_depth': 1, 'min_samples_split': 2}</td>\n",
       "      <td>0.700000</td>\n",
       "      <td>5</td>\n",
       "      <td>0.700</td>\n",
       "      <td>0.7</td>\n",
       "      <td>0.70</td>\n",
       "    </tr>\n",
       "    <tr>\n",
       "      <th>1</th>\n",
       "      <td>{'max_depth': 1, 'min_samples_split': 3}</td>\n",
       "      <td>0.700000</td>\n",
       "      <td>5</td>\n",
       "      <td>0.700</td>\n",
       "      <td>0.7</td>\n",
       "      <td>0.70</td>\n",
       "    </tr>\n",
       "    <tr>\n",
       "      <th>2</th>\n",
       "      <td>{'max_depth': 2, 'min_samples_split': 2}</td>\n",
       "      <td>0.958333</td>\n",
       "      <td>3</td>\n",
       "      <td>0.925</td>\n",
       "      <td>1.0</td>\n",
       "      <td>0.95</td>\n",
       "    </tr>\n",
       "    <tr>\n",
       "      <th>3</th>\n",
       "      <td>{'max_depth': 2, 'min_samples_split': 3}</td>\n",
       "      <td>0.958333</td>\n",
       "      <td>3</td>\n",
       "      <td>0.925</td>\n",
       "      <td>1.0</td>\n",
       "      <td>0.95</td>\n",
       "    </tr>\n",
       "    <tr>\n",
       "      <th>4</th>\n",
       "      <td>{'max_depth': 3, 'min_samples_split': 2}</td>\n",
       "      <td>0.975000</td>\n",
       "      <td>1</td>\n",
       "      <td>0.975</td>\n",
       "      <td>1.0</td>\n",
       "      <td>0.95</td>\n",
       "    </tr>\n",
       "    <tr>\n",
       "      <th>5</th>\n",
       "      <td>{'max_depth': 3, 'min_samples_split': 3}</td>\n",
       "      <td>0.975000</td>\n",
       "      <td>1</td>\n",
       "      <td>0.975</td>\n",
       "      <td>1.0</td>\n",
       "      <td>0.95</td>\n",
       "    </tr>\n",
       "  </tbody>\n",
       "</table>\n",
       "</div>"
      ],
      "text/plain": [
       "                                     params  mean_test_score  rank_test_score  \\\n",
       "0  {'max_depth': 1, 'min_samples_split': 2}         0.700000                5   \n",
       "1  {'max_depth': 1, 'min_samples_split': 3}         0.700000                5   \n",
       "2  {'max_depth': 2, 'min_samples_split': 2}         0.958333                3   \n",
       "3  {'max_depth': 2, 'min_samples_split': 3}         0.958333                3   \n",
       "4  {'max_depth': 3, 'min_samples_split': 2}         0.975000                1   \n",
       "5  {'max_depth': 3, 'min_samples_split': 3}         0.975000                1   \n",
       "\n",
       "   split0_test_score  split1_test_score  split2_test_score  \n",
       "0              0.700                0.7               0.70  \n",
       "1              0.700                0.7               0.70  \n",
       "2              0.925                1.0               0.95  \n",
       "3              0.925                1.0               0.95  \n",
       "4              0.975                1.0               0.95  \n",
       "5              0.975                1.0               0.95  "
      ]
     },
     "execution_count": 41,
     "metadata": {},
     "output_type": "execute_result"
    }
   ],
   "source": [
    "scores_df[['params', 'mean_test_score','rank_test_score','split0_test_score','split1_test_score','split2_test_score']]"
   ]
  },
  {
   "cell_type": "code",
   "execution_count": 42,
   "metadata": {},
   "outputs": [
    {
     "name": "stdout",
     "output_type": "stream",
     "text": [
      "GridSearchCV 최적 파라미터:  {'max_depth': 3, 'min_samples_split': 2}\n",
      "GridSearchCV 최고 정확도: 0.9750\n"
     ]
    }
   ],
   "source": [
    "print('GridSearchCV 최적 파라미터: ', grid_dtree.best_params_)\n",
    "print('GridSearchCV 최고 정확도: {0:.4f}'.format(grid_dtree.best_score_))"
   ]
  },
  {
   "cell_type": "code",
   "execution_count": 43,
   "metadata": {},
   "outputs": [
    {
     "name": "stdout",
     "output_type": "stream",
     "text": [
      "테스트 데이터 세트 정확도: 0.9667\n"
     ]
    }
   ],
   "source": [
    "estimator = grid_dtree.best_estimator_\n",
    "\n",
    "pred = estimator.predict(X_test)\n",
    "print('테스트 데이터 세트 정확도: {0:.4f}'.format(accuracy_score(y_test,pred)))"
   ]
  },
  {
   "cell_type": "markdown",
   "metadata": {},
   "source": [
    "# Quest"
   ]
  },
  {
   "cell_type": "code",
   "execution_count": 1,
   "metadata": {},
   "outputs": [],
   "source": [
    "from sklearn.datasets import load_breast_cancer"
   ]
  },
  {
   "cell_type": "code",
   "execution_count": 18,
   "metadata": {},
   "outputs": [
    {
     "name": "stdout",
     "output_type": "stream",
     "text": [
      "['mean radius' 'mean texture' 'mean perimeter' 'mean area'\n",
      " 'mean smoothness' 'mean compactness' 'mean concavity'\n",
      " 'mean concave points' 'mean symmetry' 'mean fractal dimension'\n",
      " 'radius error' 'texture error' 'perimeter error' 'area error'\n",
      " 'smoothness error' 'compactness error' 'concavity error'\n",
      " 'concave points error' 'symmetry error' 'fractal dimension error'\n",
      " 'worst radius' 'worst texture' 'worst perimeter' 'worst area'\n",
      " 'worst smoothness' 'worst compactness' 'worst concavity'\n",
      " 'worst concave points' 'worst symmetry' 'worst fractal dimension']\n",
      "(569, 30) (569, 2)\n"
     ]
    }
   ],
   "source": [
    "b_cancer = load_breast_cancer()\n",
    "\n",
    "print(b_cancer['feature_names'])\n",
    "print(b_cancer.data.shape, b_cancer.data[:, 0:2].shape)"
   ]
  },
  {
   "cell_type": "code",
   "execution_count": 38,
   "metadata": {},
   "outputs": [
    {
     "name": "stdout",
     "output_type": "stream",
     "text": [
      "(398, 2) (398,)\n"
     ]
    }
   ],
   "source": [
    "from sklearn.metrics import auc\n",
    "from sklearn.metrics import roc_curve\n",
    "from sklearn.metrics import roc_auc_score\n",
    "from sklearn.metrics import precision_recall_curve\n",
    "from sklearn.model_selection import train_test_split\n",
    "\n",
    "X_train, X_test, y_train, y_test = train_test_split(\n",
    "    b_cancer.data[:, :2],\n",
    "    b_cancer.target,\n",
    "    test_size = 0.3,\n",
    ")\n",
    "print(X_train.shape, y_train.shape)"
   ]
  },
  {
   "cell_type": "code",
   "execution_count": 39,
   "metadata": {},
   "outputs": [
    {
     "name": "stdout",
     "output_type": "stream",
     "text": [
      "(171,) (171,)\n",
      "[-0.34888219  2.6766916   0.22888066 -2.66682455  1.08492507 -0.19861688\n",
      "  2.61215573 -2.06243699  2.54528176  0.76396261] [0 1 1 0 1 0 1 0 1 1]\n"
     ]
    }
   ],
   "source": [
    "print(y_score.shape, y_pred.shape)\n",
    "print(y_score[:10], y_pred[:10])"
   ]
  },
  {
   "cell_type": "code",
   "execution_count": 40,
   "metadata": {},
   "outputs": [
    {
     "data": {
      "text/plain": [
       "(144, 254)"
      ]
     },
     "execution_count": 40,
     "metadata": {},
     "output_type": "execute_result"
    }
   ],
   "source": [
    "(y_train == 0).sum(), (y_train == 1).sum()\n",
    "# therefore, use ROC"
   ]
  },
  {
   "cell_type": "code",
   "execution_count": 43,
   "metadata": {},
   "outputs": [
    {
     "name": "stderr",
     "output_type": "stream",
     "text": [
      "/Users/youngseo/anaconda3/lib/python3.7/site-packages/sklearn/linear_model/logistic.py:432: FutureWarning: Default solver will be changed to 'lbfgs' in 0.22. Specify a solver to silence this warning.\n",
      "  FutureWarning)\n"
     ]
    }
   ],
   "source": [
    "from sklearn.linear_model import LogisticRegression\n",
    "\n",
    "# decision tree\n",
    "model = LogisticRegression().fit(X_train, y_train)\n",
    "\n",
    "y_score = model.decision_function(X_test)\n",
    "y_pred = model.predict(X_test)"
   ]
  },
  {
   "cell_type": "code",
   "execution_count": 44,
   "metadata": {},
   "outputs": [
    {
     "name": "stdout",
     "output_type": "stream",
     "text": [
      "0.9310394060536836\n"
     ]
    }
   ],
   "source": [
    "# calculate AUC\n",
    "roc_auc = roc_auc_score(y_test, y_score)\n",
    "print(roc_auc)"
   ]
  },
  {
   "cell_type": "code",
   "execution_count": 47,
   "metadata": {},
   "outputs": [
    {
     "name": "stdout",
     "output_type": "stream",
     "text": [
      "0.9461736150770987\n"
     ]
    },
    {
     "name": "stderr",
     "output_type": "stream",
     "text": [
      "/Users/youngseo/anaconda3/lib/python3.7/site-packages/sklearn/svm/base.py:929: ConvergenceWarning: Liblinear failed to converge, increase the number of iterations.\n",
      "  \"the number of iterations.\", ConvergenceWarning)\n"
     ]
    }
   ],
   "source": [
    "from sklearn.svm import LinearSVC\n",
    "\n",
    "# SVM\n",
    "model = LinearSVC(C=1).fit(X_train, y_train)\n",
    "\n",
    "y_score = model.decision_function(X_test)\n",
    "y_pred = model.predict(X_test)\n",
    "\n",
    "# calculate AUC\n",
    "roc_auc = roc_auc_score(y_test, y_score)\n",
    "print(roc_auc)"
   ]
  },
  {
   "cell_type": "code",
   "execution_count": 48,
   "metadata": {},
   "outputs": [],
   "source": [
    "# use SVM!"
   ]
  },
  {
   "cell_type": "code",
   "execution_count": 55,
   "metadata": {
    "scrolled": true
   },
   "outputs": [
    {
     "name": "stderr",
     "output_type": "stream",
     "text": [
      "/Users/youngseo/anaconda3/lib/python3.7/site-packages/sklearn/svm/base.py:929: ConvergenceWarning: Liblinear failed to converge, increase the number of iterations.\n",
      "  \"the number of iterations.\", ConvergenceWarning)\n",
      "/Users/youngseo/anaconda3/lib/python3.7/site-packages/sklearn/svm/base.py:929: ConvergenceWarning: Liblinear failed to converge, increase the number of iterations.\n",
      "  \"the number of iterations.\", ConvergenceWarning)\n",
      "/Users/youngseo/anaconda3/lib/python3.7/site-packages/sklearn/svm/base.py:929: ConvergenceWarning: Liblinear failed to converge, increase the number of iterations.\n",
      "  \"the number of iterations.\", ConvergenceWarning)\n",
      "/Users/youngseo/anaconda3/lib/python3.7/site-packages/sklearn/svm/base.py:929: ConvergenceWarning: Liblinear failed to converge, increase the number of iterations.\n",
      "  \"the number of iterations.\", ConvergenceWarning)\n",
      "/Users/youngseo/anaconda3/lib/python3.7/site-packages/sklearn/svm/base.py:929: ConvergenceWarning: Liblinear failed to converge, increase the number of iterations.\n",
      "  \"the number of iterations.\", ConvergenceWarning)\n",
      "/Users/youngseo/anaconda3/lib/python3.7/site-packages/sklearn/svm/base.py:929: ConvergenceWarning: Liblinear failed to converge, increase the number of iterations.\n",
      "  \"the number of iterations.\", ConvergenceWarning)\n",
      "/Users/youngseo/anaconda3/lib/python3.7/site-packages/sklearn/svm/base.py:929: ConvergenceWarning: Liblinear failed to converge, increase the number of iterations.\n",
      "  \"the number of iterations.\", ConvergenceWarning)\n",
      "/Users/youngseo/anaconda3/lib/python3.7/site-packages/sklearn/svm/base.py:929: ConvergenceWarning: Liblinear failed to converge, increase the number of iterations.\n",
      "  \"the number of iterations.\", ConvergenceWarning)\n",
      "/Users/youngseo/anaconda3/lib/python3.7/site-packages/sklearn/svm/base.py:929: ConvergenceWarning: Liblinear failed to converge, increase the number of iterations.\n",
      "  \"the number of iterations.\", ConvergenceWarning)\n",
      "/Users/youngseo/anaconda3/lib/python3.7/site-packages/sklearn/svm/base.py:929: ConvergenceWarning: Liblinear failed to converge, increase the number of iterations.\n",
      "  \"the number of iterations.\", ConvergenceWarning)\n",
      "/Users/youngseo/anaconda3/lib/python3.7/site-packages/sklearn/svm/base.py:929: ConvergenceWarning: Liblinear failed to converge, increase the number of iterations.\n",
      "  \"the number of iterations.\", ConvergenceWarning)\n",
      "/Users/youngseo/anaconda3/lib/python3.7/site-packages/sklearn/svm/base.py:929: ConvergenceWarning: Liblinear failed to converge, increase the number of iterations.\n",
      "  \"the number of iterations.\", ConvergenceWarning)\n",
      "/Users/youngseo/anaconda3/lib/python3.7/site-packages/sklearn/svm/base.py:929: ConvergenceWarning: Liblinear failed to converge, increase the number of iterations.\n",
      "  \"the number of iterations.\", ConvergenceWarning)\n",
      "/Users/youngseo/anaconda3/lib/python3.7/site-packages/sklearn/svm/base.py:929: ConvergenceWarning: Liblinear failed to converge, increase the number of iterations.\n",
      "  \"the number of iterations.\", ConvergenceWarning)\n",
      "/Users/youngseo/anaconda3/lib/python3.7/site-packages/sklearn/svm/base.py:929: ConvergenceWarning: Liblinear failed to converge, increase the number of iterations.\n",
      "  \"the number of iterations.\", ConvergenceWarning)\n",
      "/Users/youngseo/anaconda3/lib/python3.7/site-packages/sklearn/svm/base.py:929: ConvergenceWarning: Liblinear failed to converge, increase the number of iterations.\n",
      "  \"the number of iterations.\", ConvergenceWarning)\n",
      "/Users/youngseo/anaconda3/lib/python3.7/site-packages/sklearn/svm/base.py:929: ConvergenceWarning: Liblinear failed to converge, increase the number of iterations.\n",
      "  \"the number of iterations.\", ConvergenceWarning)\n",
      "/Users/youngseo/anaconda3/lib/python3.7/site-packages/sklearn/svm/base.py:929: ConvergenceWarning: Liblinear failed to converge, increase the number of iterations.\n",
      "  \"the number of iterations.\", ConvergenceWarning)\n",
      "/Users/youngseo/anaconda3/lib/python3.7/site-packages/sklearn/svm/base.py:929: ConvergenceWarning: Liblinear failed to converge, increase the number of iterations.\n",
      "  \"the number of iterations.\", ConvergenceWarning)\n",
      "/Users/youngseo/anaconda3/lib/python3.7/site-packages/sklearn/svm/base.py:929: ConvergenceWarning: Liblinear failed to converge, increase the number of iterations.\n",
      "  \"the number of iterations.\", ConvergenceWarning)\n",
      "/Users/youngseo/anaconda3/lib/python3.7/site-packages/sklearn/svm/base.py:929: ConvergenceWarning: Liblinear failed to converge, increase the number of iterations.\n",
      "  \"the number of iterations.\", ConvergenceWarning)\n",
      "/Users/youngseo/anaconda3/lib/python3.7/site-packages/sklearn/svm/base.py:929: ConvergenceWarning: Liblinear failed to converge, increase the number of iterations.\n",
      "  \"the number of iterations.\", ConvergenceWarning)\n",
      "/Users/youngseo/anaconda3/lib/python3.7/site-packages/sklearn/svm/base.py:929: ConvergenceWarning: Liblinear failed to converge, increase the number of iterations.\n",
      "  \"the number of iterations.\", ConvergenceWarning)\n",
      "/Users/youngseo/anaconda3/lib/python3.7/site-packages/sklearn/svm/base.py:929: ConvergenceWarning: Liblinear failed to converge, increase the number of iterations.\n",
      "  \"the number of iterations.\", ConvergenceWarning)\n",
      "/Users/youngseo/anaconda3/lib/python3.7/site-packages/sklearn/svm/base.py:929: ConvergenceWarning: Liblinear failed to converge, increase the number of iterations.\n",
      "  \"the number of iterations.\", ConvergenceWarning)\n",
      "/Users/youngseo/anaconda3/lib/python3.7/site-packages/sklearn/svm/base.py:929: ConvergenceWarning: Liblinear failed to converge, increase the number of iterations.\n",
      "  \"the number of iterations.\", ConvergenceWarning)\n",
      "/Users/youngseo/anaconda3/lib/python3.7/site-packages/sklearn/svm/base.py:929: ConvergenceWarning: Liblinear failed to converge, increase the number of iterations.\n",
      "  \"the number of iterations.\", ConvergenceWarning)\n",
      "/Users/youngseo/anaconda3/lib/python3.7/site-packages/sklearn/svm/base.py:929: ConvergenceWarning: Liblinear failed to converge, increase the number of iterations.\n",
      "  \"the number of iterations.\", ConvergenceWarning)\n",
      "/Users/youngseo/anaconda3/lib/python3.7/site-packages/sklearn/svm/base.py:929: ConvergenceWarning: Liblinear failed to converge, increase the number of iterations.\n",
      "  \"the number of iterations.\", ConvergenceWarning)\n",
      "/Users/youngseo/anaconda3/lib/python3.7/site-packages/sklearn/svm/base.py:929: ConvergenceWarning: Liblinear failed to converge, increase the number of iterations.\n",
      "  \"the number of iterations.\", ConvergenceWarning)\n",
      "/Users/youngseo/anaconda3/lib/python3.7/site-packages/sklearn/svm/base.py:929: ConvergenceWarning: Liblinear failed to converge, increase the number of iterations.\n",
      "  \"the number of iterations.\", ConvergenceWarning)\n"
     ]
    },
    {
     "data": {
      "text/plain": [
       "GridSearchCV(cv=5, error_score='raise-deprecating',\n",
       "             estimator=LinearSVC(C=1, class_weight=None, dual=True,\n",
       "                                 fit_intercept=True, intercept_scaling=1,\n",
       "                                 loss='squared_hinge', max_iter=1000,\n",
       "                                 multi_class='ovr', penalty='l2',\n",
       "                                 random_state=None, tol=0.0001, verbose=0),\n",
       "             iid='warn', n_jobs=None,\n",
       "             param_grid={'C': [0.1, 1.0, 10.0],\n",
       "                         'loss': ['hinge', 'squared_hinge']},\n",
       "             pre_dispatch='2*n_jobs', refit=True, return_train_score=False,\n",
       "             scoring='roc_auc', verbose=0)"
      ]
     },
     "execution_count": 55,
     "metadata": {},
     "output_type": "execute_result"
    }
   ],
   "source": [
    "from sklearn.model_selection import GridSearchCV\n",
    "\n",
    "parameters = {'C':[0.1, 1.0, 10.0], 'loss':['hinge','squared_hinge']}\n",
    "grid_dtree = GridSearchCV(model, param_grid = parameters, cv = 5, refit = True, scoring='roc_auc')\n",
    "grid_dtree.fit(X_train, y_train)"
   ]
  },
  {
   "cell_type": "code",
   "execution_count": 57,
   "metadata": {},
   "outputs": [
    {
     "data": {
      "text/html": [
       "<div>\n",
       "<style scoped>\n",
       "    .dataframe tbody tr th:only-of-type {\n",
       "        vertical-align: middle;\n",
       "    }\n",
       "\n",
       "    .dataframe tbody tr th {\n",
       "        vertical-align: top;\n",
       "    }\n",
       "\n",
       "    .dataframe thead th {\n",
       "        text-align: right;\n",
       "    }\n",
       "</style>\n",
       "<table border=\"1\" class=\"dataframe\">\n",
       "  <thead>\n",
       "    <tr style=\"text-align: right;\">\n",
       "      <th></th>\n",
       "      <th>params</th>\n",
       "      <th>mean_test_score</th>\n",
       "      <th>rank_test_score</th>\n",
       "      <th>split0_test_score</th>\n",
       "      <th>split1_test_score</th>\n",
       "      <th>split2_test_score</th>\n",
       "    </tr>\n",
       "  </thead>\n",
       "  <tbody>\n",
       "    <tr>\n",
       "      <th>0</th>\n",
       "      <td>{'C': 0.1, 'loss': 'hinge'}</td>\n",
       "      <td>0.896869</td>\n",
       "      <td>6</td>\n",
       "      <td>0.926302</td>\n",
       "      <td>0.839757</td>\n",
       "      <td>0.950642</td>\n",
       "    </tr>\n",
       "    <tr>\n",
       "      <th>1</th>\n",
       "      <td>{'C': 0.1, 'loss': 'squared_hinge'}</td>\n",
       "      <td>0.945167</td>\n",
       "      <td>5</td>\n",
       "      <td>0.966193</td>\n",
       "      <td>0.924273</td>\n",
       "      <td>0.974983</td>\n",
       "    </tr>\n",
       "    <tr>\n",
       "      <th>2</th>\n",
       "      <td>{'C': 1.0, 'loss': 'hinge'}</td>\n",
       "      <td>0.948165</td>\n",
       "      <td>3</td>\n",
       "      <td>0.966193</td>\n",
       "      <td>0.934415</td>\n",
       "      <td>0.975659</td>\n",
       "    </tr>\n",
       "    <tr>\n",
       "      <th>3</th>\n",
       "      <td>{'C': 1.0, 'loss': 'squared_hinge'}</td>\n",
       "      <td>0.953206</td>\n",
       "      <td>1</td>\n",
       "      <td>0.956728</td>\n",
       "      <td>0.959432</td>\n",
       "      <td>0.975659</td>\n",
       "    </tr>\n",
       "    <tr>\n",
       "      <th>4</th>\n",
       "      <td>{'C': 10.0, 'loss': 'hinge'}</td>\n",
       "      <td>0.945328</td>\n",
       "      <td>4</td>\n",
       "      <td>0.931711</td>\n",
       "      <td>0.951318</td>\n",
       "      <td>0.962813</td>\n",
       "    </tr>\n",
       "    <tr>\n",
       "      <th>5</th>\n",
       "      <td>{'C': 10.0, 'loss': 'squared_hinge'}</td>\n",
       "      <td>0.949677</td>\n",
       "      <td>2</td>\n",
       "      <td>0.957404</td>\n",
       "      <td>0.953347</td>\n",
       "      <td>0.963489</td>\n",
       "    </tr>\n",
       "  </tbody>\n",
       "</table>\n",
       "</div>"
      ],
      "text/plain": [
       "                                 params  mean_test_score  rank_test_score  \\\n",
       "0           {'C': 0.1, 'loss': 'hinge'}         0.896869                6   \n",
       "1   {'C': 0.1, 'loss': 'squared_hinge'}         0.945167                5   \n",
       "2           {'C': 1.0, 'loss': 'hinge'}         0.948165                3   \n",
       "3   {'C': 1.0, 'loss': 'squared_hinge'}         0.953206                1   \n",
       "4          {'C': 10.0, 'loss': 'hinge'}         0.945328                4   \n",
       "5  {'C': 10.0, 'loss': 'squared_hinge'}         0.949677                2   \n",
       "\n",
       "   split0_test_score  split1_test_score  split2_test_score  \n",
       "0           0.926302           0.839757           0.950642  \n",
       "1           0.966193           0.924273           0.974983  \n",
       "2           0.966193           0.934415           0.975659  \n",
       "3           0.956728           0.959432           0.975659  \n",
       "4           0.931711           0.951318           0.962813  \n",
       "5           0.957404           0.953347           0.963489  "
      ]
     },
     "execution_count": 57,
     "metadata": {},
     "output_type": "execute_result"
    }
   ],
   "source": [
    "import pandas as pd\n",
    "\n",
    "scores_df = pd.DataFrame(grid_dtree.cv_results_)\n",
    "scores_df[['params', 'mean_test_score','rank_test_score','split0_test_score','split1_test_score','split2_test_score']]"
   ]
  },
  {
   "cell_type": "code",
   "execution_count": 60,
   "metadata": {},
   "outputs": [
    {
     "name": "stdout",
     "output_type": "stream",
     "text": [
      "테스트 데이터 세트 정확도: 0.9480\n"
     ]
    }
   ],
   "source": [
    "estimator = grid_dtree.best_estimator_\n",
    "\n",
    "y_score = estimator.decision_function(X_test)\n",
    "print('테스트 데이터 세트 정확도: {0:.4f}'.format(roc_auc_score(y_test, y_score)))"
   ]
  }
 ],
 "metadata": {
  "kernelspec": {
   "display_name": "Python 3",
   "language": "python",
   "name": "python3"
  },
  "language_info": {
   "codemirror_mode": {
    "name": "ipython",
    "version": 3
   },
   "file_extension": ".py",
   "mimetype": "text/x-python",
   "name": "python",
   "nbconvert_exporter": "python",
   "pygments_lexer": "ipython3",
   "version": "3.7.3"
  }
 },
 "nbformat": 4,
 "nbformat_minor": 2
}
